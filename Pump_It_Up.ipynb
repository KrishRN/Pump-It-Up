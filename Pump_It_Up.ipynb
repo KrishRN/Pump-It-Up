{
  "nbformat": 4,
  "nbformat_minor": 0,
  "metadata": {
    "colab": {
      "name": "Pump It Up",
      "provenance": [],
      "collapsed_sections": [],
      "mount_file_id": "15Bg9RjxOh3LwNGKHO9fiylRLagF1hkAM",
      "authorship_tag": "ABX9TyOPAVKkB6gwKw/qo9BlAl9u"
    },
    "kernelspec": {
      "display_name": "Python 3",
      "name": "python3"
    },
    "language_info": {
      "name": "python"
    }
  },
  "cells": [
    {
      "cell_type": "markdown",
      "metadata": {
        "id": "LIkar6FWi-7a"
      },
      "source": [
        "**Importing Modules**"
      ]
    },
    {
      "cell_type": "code",
      "metadata": {
        "id": "O2EPWXK-MT_X",
        "colab": {
          "base_uri": "https://localhost:8080/"
        },
        "outputId": "02f552de-8283-46d3-dff2-fb6cdcc1466c"
      },
      "source": [
        "!pip3 install catboost -q\n",
        "!pip3 install optuna -q\n",
        "!pip3 install category_encoders"
      ],
      "execution_count": 373,
      "outputs": [
        {
          "output_type": "stream",
          "name": "stdout",
          "text": [
            "Collecting category_encoders\n",
            "  Downloading category_encoders-2.2.2-py2.py3-none-any.whl (80 kB)\n",
            "\u001b[?25l\r\u001b[K     |████                            | 10 kB 21.0 MB/s eta 0:00:01\r\u001b[K     |████████▏                       | 20 kB 27.6 MB/s eta 0:00:01\r\u001b[K     |████████████▏                   | 30 kB 25.1 MB/s eta 0:00:01\r\u001b[K     |████████████████▎               | 40 kB 19.6 MB/s eta 0:00:01\r\u001b[K     |████████████████████▎           | 51 kB 9.2 MB/s eta 0:00:01\r\u001b[K     |████████████████████████▍       | 61 kB 9.5 MB/s eta 0:00:01\r\u001b[K     |████████████████████████████▍   | 71 kB 8.5 MB/s eta 0:00:01\r\u001b[K     |████████████████████████████████| 80 kB 5.1 MB/s \n",
            "\u001b[?25hRequirement already satisfied: statsmodels>=0.9.0 in /usr/local/lib/python3.7/dist-packages (from category_encoders) (0.10.2)\n",
            "Requirement already satisfied: scikit-learn>=0.20.0 in /usr/local/lib/python3.7/dist-packages (from category_encoders) (0.22.2.post1)\n",
            "Requirement already satisfied: numpy>=1.14.0 in /usr/local/lib/python3.7/dist-packages (from category_encoders) (1.19.5)\n",
            "Requirement already satisfied: pandas>=0.21.1 in /usr/local/lib/python3.7/dist-packages (from category_encoders) (1.1.5)\n",
            "Requirement already satisfied: scipy>=1.0.0 in /usr/local/lib/python3.7/dist-packages (from category_encoders) (1.7.1)\n",
            "Requirement already satisfied: patsy>=0.5.1 in /usr/local/lib/python3.7/dist-packages (from category_encoders) (0.5.1)\n",
            "Requirement already satisfied: pytz>=2017.2 in /usr/local/lib/python3.7/dist-packages (from pandas>=0.21.1->category_encoders) (2018.9)\n",
            "Requirement already satisfied: python-dateutil>=2.7.3 in /usr/local/lib/python3.7/dist-packages (from pandas>=0.21.1->category_encoders) (2.8.2)\n",
            "Requirement already satisfied: six in /usr/local/lib/python3.7/dist-packages (from patsy>=0.5.1->category_encoders) (1.15.0)\n",
            "Requirement already satisfied: joblib>=0.11 in /usr/local/lib/python3.7/dist-packages (from scikit-learn>=0.20.0->category_encoders) (1.0.1)\n",
            "Installing collected packages: category-encoders\n",
            "Successfully installed category-encoders-2.2.2\n"
          ]
        }
      ]
    },
    {
      "cell_type": "code",
      "metadata": {
        "id": "3BSfIPwRjVYF"
      },
      "source": [
        "!pip install https://github.com/pandas-profiling/pandas-profiling/archive/master.zip -q"
      ],
      "execution_count": 297,
      "outputs": []
    },
    {
      "cell_type": "code",
      "metadata": {
        "id": "xUlRRMehKcFP"
      },
      "source": [
        "import pandas as pd\n",
        "import numpy as np\n",
        "import io\n",
        "import matplotlib.pyplot as plt\n",
        "import seaborn as sns\n",
        "sns.set(style=\"darkgrid\")\n",
        "import pandas_profiling as pf\n",
        "%matplotlib inline\n"
      ],
      "execution_count": 298,
      "outputs": []
    },
    {
      "cell_type": "markdown",
      "metadata": {
        "id": "0Y2uyv46jfpQ"
      },
      "source": [
        "**Getting Datasets**"
      ]
    },
    {
      "cell_type": "code",
      "metadata": {
        "id": "nHppZ6hxK2CV"
      },
      "source": [
        "train=pd.read_csv('/content/drive/MyDrive/Datasets for ML/Pump it Up: Data Mining the Water Table/training_set_features.csv')\n",
        "test=pd.read_csv('/content/drive/MyDrive/Datasets for ML/Pump it Up: Data Mining the Water Table/testing_set_features.csv')\n",
        "label=pd.read_csv('/content/drive/MyDrive/Datasets for ML/Pump it Up: Data Mining the Water Table/training_set_labels.csv')"
      ],
      "execution_count": 299,
      "outputs": []
    },
    {
      "cell_type": "markdown",
      "metadata": {
        "id": "MuTg_7icJkGt"
      },
      "source": [
        "**Visualizing Data using Pandas Profiling**"
      ]
    },
    {
      "cell_type": "code",
      "metadata": {
        "id": "PMgKlvP7cWRO"
      },
      "source": [
        "profile =pf.ProfileReport(train, title=\"Pump-it-Up\", explorative=True)\n",
        "profile.to_notebook_iframe()"
      ],
      "execution_count": 300,
      "outputs": []
    },
    {
      "cell_type": "code",
      "metadata": {
        "id": "ejeT8Kv2LsNj"
      },
      "source": [
        "profile.to_file(\"Pump-It-Up_Report.html\") #generating report to view in web browser"
      ],
      "execution_count": 301,
      "outputs": []
    },
    {
      "cell_type": "code",
      "metadata": {
        "id": "Ctu7QLPdmYIz"
      },
      "source": [
        "train.set_index('id',inplace=True)\n",
        "label.set_index('id',inplace=True)\n",
        "train_label = pd.merge(train, label, how = 'inner', left_index = True,right_index=True) #concating train and label "
      ],
      "execution_count": 302,
      "outputs": []
    },
    {
      "cell_type": "code",
      "metadata": {
        "id": "mJymqKJ8nDsM"
      },
      "source": [
        "train.reset_index(inplace=True)\n",
        "label.reset_index(inplace=True)"
      ],
      "execution_count": 303,
      "outputs": []
    },
    {
      "cell_type": "code",
      "metadata": {
        "colab": {
          "base_uri": "https://localhost:8080/"
        },
        "id": "IwHdHZgJmjGE",
        "outputId": "c12a81c6-95ab-4726-ec4c-2663e57eabb8"
      },
      "source": [
        "print(train_label.shape, train.shape, test.shape)"
      ],
      "execution_count": 304,
      "outputs": [
        {
          "output_type": "stream",
          "name": "stdout",
          "text": [
            "(59400, 40) (59400, 40) (14850, 40)\n"
          ]
        }
      ]
    },
    {
      "cell_type": "markdown",
      "metadata": {
        "id": "tiRvReU4jjij"
      },
      "source": [
        "**Concat the test and train for cleaning**"
      ]
    },
    {
      "cell_type": "code",
      "metadata": {
        "id": "Jo5RkLEwIABw"
      },
      "source": [
        "train_test = pd.concat([test.assign(ind=\"test\"), train.assign(ind=\"train\")])"
      ],
      "execution_count": 305,
      "outputs": []
    },
    {
      "cell_type": "code",
      "metadata": {
        "colab": {
          "base_uri": "https://localhost:8080/"
        },
        "id": "qjKZzyyNIIL9",
        "outputId": "c4d7ce43-bd9b-44a8-f2a3-14de5f7431aa"
      },
      "source": [
        "train_test.shape"
      ],
      "execution_count": 306,
      "outputs": [
        {
          "output_type": "execute_result",
          "data": {
            "text/plain": [
              "(74250, 41)"
            ]
          },
          "metadata": {},
          "execution_count": 306
        }
      ]
    },
    {
      "cell_type": "code",
      "metadata": {
        "id": "i5ZnTbimrR2k"
      },
      "source": [
        "target_status_group = {'functional':0, \n",
        "                   'non functional': 2, \n",
        "                   'functional needs repair': 1} \n",
        "train_label['status_group'] = train_label['status_group'].replace(target_status_group)"
      ],
      "execution_count": 307,
      "outputs": []
    },
    {
      "cell_type": "markdown",
      "metadata": {
        "id": "0fVugO_IsO9s"
      },
      "source": [
        "**Showing Coorelation between num columns**"
      ]
    },
    {
      "cell_type": "code",
      "metadata": {
        "colab": {
          "base_uri": "https://localhost:8080/",
          "height": 358
        },
        "id": "VeBSclA6rpkh",
        "outputId": "36116e3f-9d08-4889-80bd-f368c2319cae"
      },
      "source": [
        "correlation_matrix = train_label.corr()\n",
        "correlation_matrix.sort_values(ascending=False, by=\"status_group\")"
      ],
      "execution_count": 308,
      "outputs": [
        {
          "output_type": "execute_result",
          "data": {
            "text/html": [
              "<div>\n",
              "<style scoped>\n",
              "    .dataframe tbody tr th:only-of-type {\n",
              "        vertical-align: middle;\n",
              "    }\n",
              "\n",
              "    .dataframe tbody tr th {\n",
              "        vertical-align: top;\n",
              "    }\n",
              "\n",
              "    .dataframe thead th {\n",
              "        text-align: right;\n",
              "    }\n",
              "</style>\n",
              "<table border=\"1\" class=\"dataframe\">\n",
              "  <thead>\n",
              "    <tr style=\"text-align: right;\">\n",
              "      <th></th>\n",
              "      <th>amount_tsh</th>\n",
              "      <th>gps_height</th>\n",
              "      <th>longitude</th>\n",
              "      <th>latitude</th>\n",
              "      <th>num_private</th>\n",
              "      <th>region_code</th>\n",
              "      <th>district_code</th>\n",
              "      <th>population</th>\n",
              "      <th>construction_year</th>\n",
              "      <th>status_group</th>\n",
              "    </tr>\n",
              "  </thead>\n",
              "  <tbody>\n",
              "    <tr>\n",
              "      <th>status_group</th>\n",
              "      <td>-0.053702</td>\n",
              "      <td>-0.114029</td>\n",
              "      <td>0.004366</td>\n",
              "      <td>-0.014547</td>\n",
              "      <td>-0.005021</td>\n",
              "      <td>0.108640</td>\n",
              "      <td>0.065687</td>\n",
              "      <td>-0.017759</td>\n",
              "      <td>-0.043342</td>\n",
              "      <td>1.000000</td>\n",
              "    </tr>\n",
              "    <tr>\n",
              "      <th>region_code</th>\n",
              "      <td>-0.026813</td>\n",
              "      <td>-0.183521</td>\n",
              "      <td>0.034197</td>\n",
              "      <td>-0.221018</td>\n",
              "      <td>-0.020377</td>\n",
              "      <td>1.000000</td>\n",
              "      <td>0.678602</td>\n",
              "      <td>0.094088</td>\n",
              "      <td>0.031724</td>\n",
              "      <td>0.108640</td>\n",
              "    </tr>\n",
              "    <tr>\n",
              "      <th>district_code</th>\n",
              "      <td>-0.023599</td>\n",
              "      <td>-0.171233</td>\n",
              "      <td>0.151398</td>\n",
              "      <td>-0.201020</td>\n",
              "      <td>-0.004478</td>\n",
              "      <td>0.678602</td>\n",
              "      <td>1.000000</td>\n",
              "      <td>0.061831</td>\n",
              "      <td>0.048315</td>\n",
              "      <td>0.065687</td>\n",
              "    </tr>\n",
              "    <tr>\n",
              "      <th>longitude</th>\n",
              "      <td>0.022134</td>\n",
              "      <td>0.149155</td>\n",
              "      <td>1.000000</td>\n",
              "      <td>-0.425802</td>\n",
              "      <td>0.023873</td>\n",
              "      <td>0.034197</td>\n",
              "      <td>0.151398</td>\n",
              "      <td>0.086590</td>\n",
              "      <td>0.396732</td>\n",
              "      <td>0.004366</td>\n",
              "    </tr>\n",
              "    <tr>\n",
              "      <th>num_private</th>\n",
              "      <td>0.002944</td>\n",
              "      <td>0.007237</td>\n",
              "      <td>0.023873</td>\n",
              "      <td>0.006837</td>\n",
              "      <td>1.000000</td>\n",
              "      <td>-0.020377</td>\n",
              "      <td>-0.004478</td>\n",
              "      <td>0.003818</td>\n",
              "      <td>0.026056</td>\n",
              "      <td>-0.005021</td>\n",
              "    </tr>\n",
              "    <tr>\n",
              "      <th>latitude</th>\n",
              "      <td>-0.052670</td>\n",
              "      <td>-0.035751</td>\n",
              "      <td>-0.425802</td>\n",
              "      <td>1.000000</td>\n",
              "      <td>0.006837</td>\n",
              "      <td>-0.221018</td>\n",
              "      <td>-0.201020</td>\n",
              "      <td>-0.022152</td>\n",
              "      <td>-0.245278</td>\n",
              "      <td>-0.014547</td>\n",
              "    </tr>\n",
              "    <tr>\n",
              "      <th>population</th>\n",
              "      <td>0.016288</td>\n",
              "      <td>0.135003</td>\n",
              "      <td>0.086590</td>\n",
              "      <td>-0.022152</td>\n",
              "      <td>0.003818</td>\n",
              "      <td>0.094088</td>\n",
              "      <td>0.061831</td>\n",
              "      <td>1.000000</td>\n",
              "      <td>0.260910</td>\n",
              "      <td>-0.017759</td>\n",
              "    </tr>\n",
              "    <tr>\n",
              "      <th>construction_year</th>\n",
              "      <td>0.067915</td>\n",
              "      <td>0.658727</td>\n",
              "      <td>0.396732</td>\n",
              "      <td>-0.245278</td>\n",
              "      <td>0.026056</td>\n",
              "      <td>0.031724</td>\n",
              "      <td>0.048315</td>\n",
              "      <td>0.260910</td>\n",
              "      <td>1.000000</td>\n",
              "      <td>-0.043342</td>\n",
              "    </tr>\n",
              "    <tr>\n",
              "      <th>amount_tsh</th>\n",
              "      <td>1.000000</td>\n",
              "      <td>0.076650</td>\n",
              "      <td>0.022134</td>\n",
              "      <td>-0.052670</td>\n",
              "      <td>0.002944</td>\n",
              "      <td>-0.026813</td>\n",
              "      <td>-0.023599</td>\n",
              "      <td>0.016288</td>\n",
              "      <td>0.067915</td>\n",
              "      <td>-0.053702</td>\n",
              "    </tr>\n",
              "    <tr>\n",
              "      <th>gps_height</th>\n",
              "      <td>0.076650</td>\n",
              "      <td>1.000000</td>\n",
              "      <td>0.149155</td>\n",
              "      <td>-0.035751</td>\n",
              "      <td>0.007237</td>\n",
              "      <td>-0.183521</td>\n",
              "      <td>-0.171233</td>\n",
              "      <td>0.135003</td>\n",
              "      <td>0.658727</td>\n",
              "      <td>-0.114029</td>\n",
              "    </tr>\n",
              "  </tbody>\n",
              "</table>\n",
              "</div>"
            ],
            "text/plain": [
              "                   amount_tsh  gps_height  ...  construction_year  status_group\n",
              "status_group        -0.053702   -0.114029  ...          -0.043342      1.000000\n",
              "region_code         -0.026813   -0.183521  ...           0.031724      0.108640\n",
              "district_code       -0.023599   -0.171233  ...           0.048315      0.065687\n",
              "longitude            0.022134    0.149155  ...           0.396732      0.004366\n",
              "num_private          0.002944    0.007237  ...           0.026056     -0.005021\n",
              "latitude            -0.052670   -0.035751  ...          -0.245278     -0.014547\n",
              "population           0.016288    0.135003  ...           0.260910     -0.017759\n",
              "construction_year    0.067915    0.658727  ...           1.000000     -0.043342\n",
              "amount_tsh           1.000000    0.076650  ...           0.067915     -0.053702\n",
              "gps_height           0.076650    1.000000  ...           0.658727     -0.114029\n",
              "\n",
              "[10 rows x 10 columns]"
            ]
          },
          "metadata": {},
          "execution_count": 308
        }
      ]
    },
    {
      "cell_type": "code",
      "metadata": {
        "colab": {
          "base_uri": "https://localhost:8080/",
          "height": 687
        },
        "id": "1wI6CmG-rxz_",
        "outputId": "0dcf54ec-ca68-4e4e-d14f-105ed0cd8430"
      },
      "source": [
        "fig, ax = plt.subplots(figsize=(10, 10))\n",
        "colormap = sns.color_palette(\"crest\", as_cmap=True)\n",
        "sns.heatmap(correlation_matrix, cmap=colormap, annot=True, fmt=\".2f\")\n",
        "plt.show()"
      ],
      "execution_count": 309,
      "outputs": [
        {
          "output_type": "display_data",
          "data": {
            "image/png": "[encoded data removed]",
            "text/plain": [
              "<Figure size 720x720 with 2 Axes>"
            ]
          },
          "metadata": {
            "needs_background": "light"
          }
        }
      ]
    },
    {
      "cell_type": "markdown",
      "metadata": {
        "id": "YGZTc_L0MRW3"
      },
      "source": [
        "# **Analysing Columns**"
      ]
    },
    {
      "cell_type": "markdown",
      "metadata": {
        "id": "OUZeHUcajpoK"
      },
      "source": [
        "**Longitude and Latitude Column**"
      ]
    },
    {
      "cell_type": "code",
      "metadata": {
        "id": "PYAgeVPLdYKZ",
        "colab": {
          "base_uri": "https://localhost:8080/",
          "height": 527
        },
        "outputId": "4ec51b92-95e6-4fa5-a494-a03e8b34afeb"
      },
      "source": [
        "plt.scatter(train['longitude'],train['latitude']) #Plotting the Longitude and latitude Points on a X,Y plane \n",
        "plt.xlim(-20,60)\n",
        "plt.ylim(-20,20)\n",
        "plt.show()\n",
        "\n",
        "plt.scatter(test['longitude'],test['latitude'])\n",
        "plt.xlim(-20,60)\n",
        "plt.ylim(-20,20)\n",
        "plt.show()"
      ],
      "execution_count": 310,
      "outputs": [
        {
          "output_type": "display_data",
          "data": {
            "image/png": "[encoded data removed]",
            "text/plain": [
              "<Figure size 432x288 with 1 Axes>"
            ]
          },
          "metadata": {
            "needs_background": "light"
          }
        },
        {
          "output_type": "display_data",
          "data": {
            "image/png": "[encoded data removed]",
            "text/plain": [
              "<Figure size 432x288 with 1 Axes>"
            ]
          },
          "metadata": {
            "needs_background": "light"
          }
        }
      ]
    },
    {
      "cell_type": "code",
      "metadata": {
        "colab": {
          "base_uri": "https://localhost:8080/",
          "height": 246
        },
        "id": "pHp_F088df0-",
        "outputId": "7bc3adda-9d48-4c07-ecb5-d9b3683c3855"
      },
      "source": [
        "map= plt.imread('/content/drive/MyDrive/Datasets for ML/Pump it Up: Data Mining the Water Table/tanzania_map.png')# Plotting the points on a map\n",
        "BBox = ((train.longitude.min(),   train.longitude.max(),      \n",
        "         train.latitude.min(), train.latitude.max()))\n",
        "fig, ax = plt.subplots(figsize = (10,10))\n",
        "ax.scatter(train.longitude, train.latitude, zorder=1, alpha= 0.2, c='b', s=10)\n",
        "ax.set_title('Plotting waterpump Data')\n",
        "ax.set_xlim(BBox[0],BBox[1])\n",
        "ax.set_ylim(BBox[2],BBox[3])\n",
        "ax.imshow(map, zorder=0, extent = BBox, aspect= 'equal')"
      ],
      "execution_count": 311,
      "outputs": [
        {
          "output_type": "execute_result",
          "data": {
            "text/plain": [
              "<matplotlib.image.AxesImage at 0x7f1acd4cc0d0>"
            ]
          },
          "metadata": {},
          "execution_count": 311
        },
        {
          "output_type": "display_data",
          "data": {
            "image/png": "[encoded data removed]",
            "text/plain": [
              "<Figure size 720x720 with 1 Axes>"
            ]
          },
          "metadata": {
            "needs_background": "light"
          }
        }
      ]
    },
    {
      "cell_type": "markdown",
      "metadata": {
        "id": "4PgpSklyKm56"
      },
      "source": [
        "   There seems to be outliers in the Longitude column as well as Latitude Column. The Outlier Points in the Longitude column are in the ocean and the outlier points in the latitude column are outside tanzania and in other countries. So i used the mean values of longitude and latitude columns to change the outlier values to mean something.\n",
        "   "
      ]
    },
    {
      "cell_type": "code",
      "metadata": {
        "colab": {
          "base_uri": "https://localhost:8080/",
          "height": 296
        },
        "id": "feHFrmc1I586",
        "outputId": "28ac5a7f-6c7f-4329-aac9-97f09df2ec4d"
      },
      "source": [
        "train_test.loc[train_test['longitude']!=0].describe() #getting the mean value for longitude"
      ],
      "execution_count": 312,
      "outputs": [
        {
          "output_type": "execute_result",
          "data": {
            "text/html": [
              "<div>\n",
              "<style scoped>\n",
              "    .dataframe tbody tr th:only-of-type {\n",
              "        vertical-align: middle;\n",
              "    }\n",
              "\n",
              "    .dataframe tbody tr th {\n",
              "        vertical-align: top;\n",
              "    }\n",
              "\n",
              "    .dataframe thead th {\n",
              "        text-align: right;\n",
              "    }\n",
              "</style>\n",
              "<table border=\"1\" class=\"dataframe\">\n",
              "  <thead>\n",
              "    <tr style=\"text-align: right;\">\n",
              "      <th></th>\n",
              "      <th>id</th>\n",
              "      <th>amount_tsh</th>\n",
              "      <th>gps_height</th>\n",
              "      <th>longitude</th>\n",
              "      <th>latitude</th>\n",
              "      <th>num_private</th>\n",
              "      <th>region_code</th>\n",
              "      <th>district_code</th>\n",
              "      <th>population</th>\n",
              "      <th>construction_year</th>\n",
              "    </tr>\n",
              "  </thead>\n",
              "  <tbody>\n",
              "    <tr>\n",
              "      <th>count</th>\n",
              "      <td>71981.000000</td>\n",
              "      <td>71981.000000</td>\n",
              "      <td>71981.000000</td>\n",
              "      <td>71981.000000</td>\n",
              "      <td>71981.000000</td>\n",
              "      <td>71981.000000</td>\n",
              "      <td>71981.000000</td>\n",
              "      <td>71981.000000</td>\n",
              "      <td>71981.000000</td>\n",
              "      <td>71981.000000</td>\n",
              "    </tr>\n",
              "    <tr>\n",
              "      <th>mean</th>\n",
              "      <td>37117.739945</td>\n",
              "      <td>328.731381</td>\n",
              "      <td>686.650616</td>\n",
              "      <td>35.148358</td>\n",
              "      <td>-5.881503</td>\n",
              "      <td>0.476904</td>\n",
              "      <td>15.185091</td>\n",
              "      <td>5.728248</td>\n",
              "      <td>186.448493</td>\n",
              "      <td>1339.394090</td>\n",
              "    </tr>\n",
              "    <tr>\n",
              "      <th>std</th>\n",
              "      <td>21432.597850</td>\n",
              "      <td>2951.661960</td>\n",
              "      <td>693.280413</td>\n",
              "      <td>2.608924</td>\n",
              "      <td>2.808758</td>\n",
              "      <td>11.718023</td>\n",
              "      <td>17.775842</td>\n",
              "      <td>9.768536</td>\n",
              "      <td>477.341984</td>\n",
              "      <td>938.475708</td>\n",
              "    </tr>\n",
              "    <tr>\n",
              "      <th>min</th>\n",
              "      <td>0.000000</td>\n",
              "      <td>0.000000</td>\n",
              "      <td>-90.000000</td>\n",
              "      <td>29.607122</td>\n",
              "      <td>-11.649440</td>\n",
              "      <td>0.000000</td>\n",
              "      <td>1.000000</td>\n",
              "      <td>0.000000</td>\n",
              "      <td>0.000000</td>\n",
              "      <td>0.000000</td>\n",
              "    </tr>\n",
              "    <tr>\n",
              "      <th>25%</th>\n",
              "      <td>18565.000000</td>\n",
              "      <td>0.000000</td>\n",
              "      <td>0.000000</td>\n",
              "      <td>33.277747</td>\n",
              "      <td>-8.632576</td>\n",
              "      <td>0.000000</td>\n",
              "      <td>5.000000</td>\n",
              "      <td>2.000000</td>\n",
              "      <td>0.000000</td>\n",
              "      <td>0.000000</td>\n",
              "    </tr>\n",
              "    <tr>\n",
              "      <th>50%</th>\n",
              "      <td>37122.000000</td>\n",
              "      <td>0.000000</td>\n",
              "      <td>418.000000</td>\n",
              "      <td>35.007072</td>\n",
              "      <td>-5.173950</td>\n",
              "      <td>0.000000</td>\n",
              "      <td>12.000000</td>\n",
              "      <td>3.000000</td>\n",
              "      <td>35.000000</td>\n",
              "      <td>1988.000000</td>\n",
              "    </tr>\n",
              "    <tr>\n",
              "      <th>75%</th>\n",
              "      <td>55684.000000</td>\n",
              "      <td>30.000000</td>\n",
              "      <td>1330.000000</td>\n",
              "      <td>37.237383</td>\n",
              "      <td>-3.371872</td>\n",
              "      <td>0.000000</td>\n",
              "      <td>17.000000</td>\n",
              "      <td>5.000000</td>\n",
              "      <td>230.000000</td>\n",
              "      <td>2005.000000</td>\n",
              "    </tr>\n",
              "    <tr>\n",
              "      <th>max</th>\n",
              "      <td>74249.000000</td>\n",
              "      <td>350000.000000</td>\n",
              "      <td>2777.000000</td>\n",
              "      <td>40.345193</td>\n",
              "      <td>-0.998464</td>\n",
              "      <td>1776.000000</td>\n",
              "      <td>99.000000</td>\n",
              "      <td>80.000000</td>\n",
              "      <td>30500.000000</td>\n",
              "      <td>2013.000000</td>\n",
              "    </tr>\n",
              "  </tbody>\n",
              "</table>\n",
              "</div>"
            ],
            "text/plain": [
              "                 id     amount_tsh  ...    population  construction_year\n",
              "count  71981.000000   71981.000000  ...  71981.000000       71981.000000\n",
              "mean   37117.739945     328.731381  ...    186.448493        1339.394090\n",
              "std    21432.597850    2951.661960  ...    477.341984         938.475708\n",
              "min        0.000000       0.000000  ...      0.000000           0.000000\n",
              "25%    18565.000000       0.000000  ...      0.000000           0.000000\n",
              "50%    37122.000000       0.000000  ...     35.000000        1988.000000\n",
              "75%    55684.000000      30.000000  ...    230.000000        2005.000000\n",
              "max    74249.000000  350000.000000  ...  30500.000000        2013.000000\n",
              "\n",
              "[8 rows x 10 columns]"
            ]
          },
          "metadata": {},
          "execution_count": 312
        }
      ]
    },
    {
      "cell_type": "code",
      "metadata": {
        "id": "0y_zildnJ3tG"
      },
      "source": [
        "train_test['longitude'].replace(to_replace = 0 , value =35.148358, inplace=True) "
      ],
      "execution_count": 313,
      "outputs": []
    },
    {
      "cell_type": "code",
      "metadata": {
        "colab": {
          "base_uri": "https://localhost:8080/",
          "height": 296
        },
        "id": "mEoazeHgN2YZ",
        "outputId": "d695bfec-ed13-44d6-b30c-832469996bb2"
      },
      "source": [
        "train_test.loc[train_test['latitude']<=-1].describe()"
      ],
      "execution_count": 314,
      "outputs": [
        {
          "output_type": "execute_result",
          "data": {
            "text/html": [
              "<div>\n",
              "<style scoped>\n",
              "    .dataframe tbody tr th:only-of-type {\n",
              "        vertical-align: middle;\n",
              "    }\n",
              "\n",
              "    .dataframe tbody tr th {\n",
              "        vertical-align: top;\n",
              "    }\n",
              "\n",
              "    .dataframe thead th {\n",
              "        text-align: right;\n",
              "    }\n",
              "</style>\n",
              "<table border=\"1\" class=\"dataframe\">\n",
              "  <thead>\n",
              "    <tr style=\"text-align: right;\">\n",
              "      <th></th>\n",
              "      <th>id</th>\n",
              "      <th>amount_tsh</th>\n",
              "      <th>gps_height</th>\n",
              "      <th>longitude</th>\n",
              "      <th>latitude</th>\n",
              "      <th>num_private</th>\n",
              "      <th>region_code</th>\n",
              "      <th>district_code</th>\n",
              "      <th>population</th>\n",
              "      <th>construction_year</th>\n",
              "    </tr>\n",
              "  </thead>\n",
              "  <tbody>\n",
              "    <tr>\n",
              "      <th>count</th>\n",
              "      <td>71973.000000</td>\n",
              "      <td>71973.000000</td>\n",
              "      <td>71973.000000</td>\n",
              "      <td>71973.000000</td>\n",
              "      <td>71973.000000</td>\n",
              "      <td>71973.000000</td>\n",
              "      <td>71973.000000</td>\n",
              "      <td>71973.000000</td>\n",
              "      <td>71973.000000</td>\n",
              "      <td>71973.000000</td>\n",
              "    </tr>\n",
              "    <tr>\n",
              "      <th>mean</th>\n",
              "      <td>37118.649660</td>\n",
              "      <td>328.767921</td>\n",
              "      <td>686.726939</td>\n",
              "      <td>35.148749</td>\n",
              "      <td>-5.882046</td>\n",
              "      <td>0.476957</td>\n",
              "      <td>15.184778</td>\n",
              "      <td>5.728106</td>\n",
              "      <td>186.469218</td>\n",
              "      <td>1339.542968</td>\n",
              "    </tr>\n",
              "    <tr>\n",
              "      <th>std</th>\n",
              "      <td>21432.735976</td>\n",
              "      <td>2951.823966</td>\n",
              "      <td>693.281142</td>\n",
              "      <td>2.608805</td>\n",
              "      <td>2.808443</td>\n",
              "      <td>11.718673</td>\n",
              "      <td>17.776805</td>\n",
              "      <td>9.769070</td>\n",
              "      <td>477.364464</td>\n",
              "      <td>938.421612</td>\n",
              "    </tr>\n",
              "    <tr>\n",
              "      <th>min</th>\n",
              "      <td>0.000000</td>\n",
              "      <td>0.000000</td>\n",
              "      <td>-90.000000</td>\n",
              "      <td>29.607122</td>\n",
              "      <td>-11.649440</td>\n",
              "      <td>0.000000</td>\n",
              "      <td>1.000000</td>\n",
              "      <td>0.000000</td>\n",
              "      <td>0.000000</td>\n",
              "      <td>0.000000</td>\n",
              "    </tr>\n",
              "    <tr>\n",
              "      <th>25%</th>\n",
              "      <td>18565.000000</td>\n",
              "      <td>0.000000</td>\n",
              "      <td>0.000000</td>\n",
              "      <td>33.279483</td>\n",
              "      <td>-8.632675</td>\n",
              "      <td>0.000000</td>\n",
              "      <td>5.000000</td>\n",
              "      <td>2.000000</td>\n",
              "      <td>0.000000</td>\n",
              "      <td>0.000000</td>\n",
              "    </tr>\n",
              "    <tr>\n",
              "      <th>50%</th>\n",
              "      <td>37124.000000</td>\n",
              "      <td>0.000000</td>\n",
              "      <td>418.000000</td>\n",
              "      <td>35.007394</td>\n",
              "      <td>-5.174422</td>\n",
              "      <td>0.000000</td>\n",
              "      <td>12.000000</td>\n",
              "      <td>3.000000</td>\n",
              "      <td>35.000000</td>\n",
              "      <td>1988.000000</td>\n",
              "    </tr>\n",
              "    <tr>\n",
              "      <th>75%</th>\n",
              "      <td>55685.000000</td>\n",
              "      <td>30.000000</td>\n",
              "      <td>1330.000000</td>\n",
              "      <td>37.237565</td>\n",
              "      <td>-3.372008</td>\n",
              "      <td>0.000000</td>\n",
              "      <td>17.000000</td>\n",
              "      <td>5.000000</td>\n",
              "      <td>230.000000</td>\n",
              "      <td>2005.000000</td>\n",
              "    </tr>\n",
              "    <tr>\n",
              "      <th>max</th>\n",
              "      <td>74249.000000</td>\n",
              "      <td>350000.000000</td>\n",
              "      <td>2777.000000</td>\n",
              "      <td>40.345193</td>\n",
              "      <td>-1.000585</td>\n",
              "      <td>1776.000000</td>\n",
              "      <td>99.000000</td>\n",
              "      <td>80.000000</td>\n",
              "      <td>30500.000000</td>\n",
              "      <td>2013.000000</td>\n",
              "    </tr>\n",
              "  </tbody>\n",
              "</table>\n",
              "</div>"
            ],
            "text/plain": [
              "                 id     amount_tsh  ...    population  construction_year\n",
              "count  71973.000000   71973.000000  ...  71973.000000       71973.000000\n",
              "mean   37118.649660     328.767921  ...    186.469218        1339.542968\n",
              "std    21432.735976    2951.823966  ...    477.364464         938.421612\n",
              "min        0.000000       0.000000  ...      0.000000           0.000000\n",
              "25%    18565.000000       0.000000  ...      0.000000           0.000000\n",
              "50%    37124.000000       0.000000  ...     35.000000        1988.000000\n",
              "75%    55685.000000      30.000000  ...    230.000000        2005.000000\n",
              "max    74249.000000  350000.000000  ...  30500.000000        2013.000000\n",
              "\n",
              "[8 rows x 10 columns]"
            ]
          },
          "metadata": {},
          "execution_count": 314
        }
      ]
    },
    {
      "cell_type": "code",
      "metadata": {
        "id": "AeZ-vDxoOoWE"
      },
      "source": [
        "train_test['latitude'].replace(to_replace = -0.00000002 , value =-5.882046, inplace=True) #getting the mean value for latitude and change it"
      ],
      "execution_count": 315,
      "outputs": []
    },
    {
      "cell_type": "markdown",
      "metadata": {
        "id": "33p3zP0GQ1qW"
      },
      "source": [
        "*1. For changing the value of a range use mask eg:* \n",
        "\n",
        "train_test['latitude'] = train_test['latitude'].mask(train_test['latitude'] >15, 0) "
      ]
    },
    {
      "cell_type": "code",
      "metadata": {
        "id": "Tow3xi7SQbbw"
      },
      "source": [
        " np.testing.assert_array_equal(len(train_test.loc[train_test['latitude']==-0.00000002]), \n",
        "                              0)"
      ],
      "execution_count": 316,
      "outputs": []
    },
    {
      "cell_type": "markdown",
      "metadata": {
        "id": "rSAxqM1JUhT9"
      },
      "source": [
        "**Installer Column**"
      ]
    },
    {
      "cell_type": "code",
      "metadata": {
        "colab": {
          "base_uri": "https://localhost:8080/"
        },
        "id": "oX96cGpuUrWT",
        "outputId": "55e8fb8a-a4aa-4dfc-c4fc-41bf3afe242f"
      },
      "source": [
        "train_test['installer'].isnull().sum()"
      ],
      "execution_count": 317,
      "outputs": [
        {
          "output_type": "execute_result",
          "data": {
            "text/plain": [
              "4532"
            ]
          },
          "metadata": {},
          "execution_count": 317
        }
      ]
    },
    {
      "cell_type": "code",
      "metadata": {
        "colab": {
          "base_uri": "https://localhost:8080/"
        },
        "id": "nbZ3yvH_Unwy",
        "outputId": "82c46239-bff2-43df-8901-2b122485a272"
      },
      "source": [
        "train_test['installer'].fillna(value='Unknown',inplace=True) #filling the missing values as unknown\n",
        "train_test['installer'].replace(to_replace = '0', value ='Unknown' , inplace=True) #changing 0 as Unknown Installer\n",
        "train_test['installer'].value_counts().head(100).sum() #cardinaity is high so to reduce it check the total entries with 100"
      ],
      "execution_count": 318,
      "outputs": [
        {
          "output_type": "execute_result",
          "data": {
            "text/plain": [
              "59128"
            ]
          },
          "metadata": {},
          "execution_count": 318
        }
      ]
    },
    {
      "cell_type": "code",
      "metadata": {
        "id": "4fmT1KfPW9UU"
      },
      "source": [
        "#Replacing Spelling Mistakes with the correct value\n",
        "train_test['installer'].replace(to_replace = ('District Water Department', 'District water depar','Distric Water Department'),\n",
        "                        value ='District water department' , inplace=True)\n",
        "\n",
        "train_test['installer'].replace(to_replace = ('FinW','Fini water','FINI WATER'), value ='Fini Water' , inplace=True)\n",
        "train_test['installer'].replace(to_replace = 'JAICA', value ='Jaica' , inplace=True)\n",
        "\n",
        "train_test['installer'].replace(to_replace = ('COUN', 'District COUNCIL', 'DISTRICT COUNCIL','District Counci', \n",
        "                                      'District Council','Council','Counc','District  Council','Distri'),\n",
        "                                    value ='District council' , inplace=True)\n",
        "\n",
        "train_test['installer'].replace(to_replace = ('RC CHURCH', 'RC Churc', 'RC','RC Ch','RC C', 'RC CH','RC church', \n",
        "                                      'RC CATHORIC',) , value ='RC Church' , inplace=True)\n",
        "\n",
        "train_test['installer'].replace(to_replace = ('Central Government','Tanzania Government',\n",
        "                                       'central government','Cental Government', 'Cebtral Government', \n",
        "                                      'Tanzanian Government','Tanzania government', 'Centra Government' ,\n",
        "                                      'CENTRAL GOVERNMENT', 'TANZANIAN GOVERNMENT','Central govt', 'Centr', \n",
        "                                      'Centra govt') , value ='Central government' , inplace=True)\n",
        "\n",
        "train_test['installer'].replace(to_replace = ('World vision', 'World Division','World Vision'),\n",
        "                                        value ='world vision' , inplace=True)\n",
        "\n",
        "train_test['installer'].replace(to_replace = ('Unisef','UNICEF'),value ='Unicef' , inplace=True)\n",
        "train_test['installer'].replace(to_replace = 'DANID', value ='DANIDA' , inplace=True)\n",
        "\n",
        "train_test['installer'].replace(to_replace = ('villigers', 'villager', 'villagers', 'Villa', 'Village', 'Villi', \n",
        "                                      'Village Council','Village Counil', 'Villages', 'Vill', 'Village community', \n",
        "                                      'Villaers', 'Village Community', 'Villag','Villege Council', 'Village council',\n",
        "                                      'Village  Council','Villagerd', 'Villager', 'Village Technician',\n",
        "                                      'Village Office','Village community members','VILLAGERS','VILLAGE COUNCIL','VILLAG',\n",
        "                                      'VILLAGER','VILLAGE','village council', 'Villegers'),\n",
        "                                        value ='villagers' , inplace=True)\n",
        "\n",
        "\n",
        "train_test['installer'].replace(to_replace =('Commu','Communit','commu','COMMU', 'COMMUNITY') ,\n",
        "                                        value ='Community' , inplace=True)\n",
        "\n",
        "train_test['installer'].replace(to_replace = ('GOVERNMENT', 'GOVER', 'GOVERNME', 'GOVERM','GOVERN','Gover','Gove',\n",
        "                                      'Governme','Governmen' ) ,value ='Government' , inplace=True)\n",
        "\n",
        "train_test['installer'].replace(to_replace = 'Hesawa' ,value ='HESAWA' , inplace=True)\n",
        "train_test['installer'].replace(to_replace = ('Colonial Government') , value ='Colonial government' , inplace=True)\n",
        "train_test['installer'].replace(to_replace = ('Government of Misri') , value ='Misri Government' , inplace=True)\n",
        "train_test['installer'].replace(to_replace = ('Italy government') , value ='Italian government' , inplace=True)\n",
        "train_test['installer'].replace(to_replace = ('British colonial government') , value ='British government' , inplace=True)\n",
        "train_test['installer'].replace(to_replace = ('Concern /government') , value ='Concern/Government' , inplace=True)\n",
        "train_test['installer'].replace(to_replace = ('Village Government','Village govt','Village Govt',) , value ='Village government' , inplace=True)\n",
        "train_test['installer'].replace(to_replace = ('Government and Community') , value ='Government /Community' , inplace=True)\n",
        "train_test['installer'].replace(to_replace = ('Central government /RC') , value ='RC church/Central Gover' , inplace=True)\n",
        "train_test['installer'].replace(to_replace = ('Government /TCRS','Government/TCRS') , value ='TCRS /Government' , inplace=True)\n",
        "train_test['installer'].replace(to_replace = ('ADRA /Government') , value ='ADRA/Government' , inplace=True)"
      ],
      "execution_count": 319,
      "outputs": []
    },
    {
      "cell_type": "code",
      "metadata": {
        "colab": {
          "base_uri": "https://localhost:8080/"
        },
        "id": "S__Y8RINjM2r",
        "outputId": "9b4a024e-189b-4cc4-90b3-e5d6283c76cb"
      },
      "source": [
        "uniq=train_test['installer'].unique() #cardinaity is high so to reduce it check the total entries with 100\n",
        "matching = [s for s in uniq if \"ViL\" in s]\n",
        "matching"
      ],
      "execution_count": 320,
      "outputs": [
        {
          "output_type": "execute_result",
          "data": {
            "text/plain": [
              "['ViLLAGE COUNCIL']"
            ]
          },
          "metadata": {},
          "execution_count": 320
        }
      ]
    },
    {
      "cell_type": "code",
      "metadata": {
        "colab": {
          "base_uri": "https://localhost:8080/"
        },
        "id": "SG-x-tCsfD5D",
        "outputId": "4d76f112-1342-45b1-8249-0631e9bfa7e1"
      },
      "source": [
        "train_test['installer'].value_counts().head(20)"
      ],
      "execution_count": 321,
      "outputs": [
        {
          "output_type": "execute_result",
          "data": {
            "text/plain": [
              "DWE                   21751\n",
              "Unknown                5516\n",
              "Government             3337\n",
              "Community              2112\n",
              "DANIDA                 1995\n",
              "HESAWA                 1749\n",
              "RWE                    1498\n",
              "District council       1449\n",
              "Central government     1359\n",
              "KKKT                   1120\n",
              "TCRS                    887\n",
              "world vision            846\n",
              "CES                     765\n",
              "Fini Water              732\n",
              "RC Church               586\n",
              "TASAF                   504\n",
              "LGA                     501\n",
              "WEDECO                  496\n",
              "Unicef                  421\n",
              "AMREF                   398\n",
              "Name: installer, dtype: int64"
            ]
          },
          "metadata": {},
          "execution_count": 321
        }
      ]
    },
    {
      "cell_type": "markdown",
      "metadata": {
        "id": "D7eNvv9QMo1r"
      },
      "source": [
        "Still the cardinality is so high.So to reduce the cardinality i took the top 17 unique values and assigned other values as \"others\""
      ]
    },
    {
      "cell_type": "code",
      "metadata": {
        "colab": {
          "base_uri": "https://localhost:8080/"
        },
        "id": "soFgmxjnkWoi",
        "outputId": "575b11e8-4ecc-4741-aeda-6539cf814226"
      },
      "source": [
        "c_ins = ['DWE','Unknown','Government','Community','DANIDA','RWE','District council', 'Central government',\n",
        "         'KKKT','HESAWA','TCRS', 'world vision', 'Fini Water', 'RC Church','villagers','LGA']\n",
        "\n",
        "train_test.loc[~train_test[\"installer\"].isin(c_ins), \"installer\"] = \"Others\"\n",
        "train_test['installer'].describe()"
      ],
      "execution_count": 322,
      "outputs": [
        {
          "output_type": "execute_result",
          "data": {
            "text/plain": [
              "count      74250\n",
              "unique        17\n",
              "top       Others\n",
              "freq       28480\n",
              "Name: installer, dtype: object"
            ]
          },
          "metadata": {},
          "execution_count": 322
        }
      ]
    },
    {
      "cell_type": "markdown",
      "metadata": {
        "id": "sgmlMn-TgGHH"
      },
      "source": [
        "**funder Column**\n",
        "\n",
        "---\n",
        "\n",
        "\n",
        "\n"
      ]
    },
    {
      "cell_type": "code",
      "metadata": {
        "id": "Xa9dhVjpgkGP",
        "colab": {
          "base_uri": "https://localhost:8080/"
        },
        "outputId": "2c871808-33ea-4ae4-bd4f-38eb239a495b"
      },
      "source": [
        "print(train_test['funder'].isna().sum(), len(train_test.loc[train_test['funder']=='0']))"
      ],
      "execution_count": 323,
      "outputs": [
        {
          "output_type": "stream",
          "name": "stdout",
          "text": [
            "4504 980\n"
          ]
        }
      ]
    },
    {
      "cell_type": "code",
      "metadata": {
        "id": "Wf_aQ5xTg5CG",
        "colab": {
          "base_uri": "https://localhost:8080/"
        },
        "outputId": "d90a3f81-7622-44a5-e737-c939648329f8"
      },
      "source": [
        "train_test['funder'].fillna(value='Unknown',inplace=True) #filling the missing values as unknown\n",
        "train_test['funder'].replace(to_replace = '0', value ='Unknown' , inplace=True) #changing 0 as Unknown funder\n",
        "train_test['funder'].value_counts().head(100).sum() #cardinaity is high so to reduce it check the total entries with 100"
      ],
      "execution_count": 324,
      "outputs": [
        {
          "output_type": "execute_result",
          "data": {
            "text/plain": [
              "59681"
            ]
          },
          "metadata": {},
          "execution_count": 324
        }
      ]
    },
    {
      "cell_type": "code",
      "metadata": {
        "id": "XW63sYM7jzZ8"
      },
      "source": [
        "#Replacing Spelling Mistakes with the correct value\n",
        "train_test['funder'].replace(to_replace = 'Dwspd' ,value ='Dwsp' , inplace=True)\n",
        "train_test['funder'].replace(to_replace = ('W0rld  Bank') ,value ='World Bank' , inplace=True)\n",
        "train_test['funder'].replace(to_replace = ('Tcrs.Tlc','Tcrst','Tcrs Kibondo') ,value ='Tcrs' , inplace=True)\n",
        "train_test['funder'].replace(to_replace = ('Tanzania') ,value ='Government Of Tanzania' , inplace=True)\n",
        "train_test['funder'].replace(to_replace = ('Germany Republi','Germany',) ,value ='Germany Republic' , inplace=True)"
      ],
      "execution_count": 325,
      "outputs": []
    },
    {
      "cell_type": "code",
      "metadata": {
        "id": "7_3k9mV2hNST"
      },
      "source": [
        "uniq=train_test['funder'].unique() #cardinaity is high so to reduce it check the total entries with 100\n",
        "matching = [s for s in uniq if \"Water\" in s]\n"
      ],
      "execution_count": 326,
      "outputs": []
    },
    {
      "cell_type": "markdown",
      "metadata": {
        "id": "mGbtTu92Obxv"
      },
      "source": [
        "Like the Installer column this column is also with high cardinatlity. so took the first twenty distinct values with high occurance and changed other record's funder to \"Others\""
      ]
    },
    {
      "cell_type": "code",
      "metadata": {
        "id": "2X8HwLX0kKfv",
        "colab": {
          "base_uri": "https://localhost:8080/"
        },
        "outputId": "eef056cd-0e41-48d2-8215-4c045ad703d1"
      },
      "source": [
        "c_fund = ['Danida','Unknown','Government Of Tanzania','Hesawa','Rwssp','World Bank','Kkkt', 'World Vision',\n",
        "         'Unicef','Tasaf','District Council', 'Dhv', 'Private Individual', 'Dwsp','Norad','Germany Republic',\n",
        "         'Tcrs','Ministry Of Water','Water','Dwe']\n",
        "    \n",
        "\n",
        "train_test.loc[~train_test[\"funder\"].isin(c_fund), \"funder\"] = \"Others\"\n",
        "train_test['funder'].describe()"
      ],
      "execution_count": 327,
      "outputs": [
        {
          "output_type": "execute_result",
          "data": {
            "text/plain": [
              "count      74250\n",
              "unique        21\n",
              "top       Others\n",
              "freq       32901\n",
              "Name: funder, dtype: object"
            ]
          },
          "metadata": {},
          "execution_count": 327
        }
      ]
    },
    {
      "cell_type": "markdown",
      "metadata": {
        "id": "bp3IMfHppdrn"
      },
      "source": [
        "**construction Year Column**"
      ]
    },
    {
      "cell_type": "code",
      "metadata": {
        "id": "TUT0RBwkp5r0",
        "colab": {
          "base_uri": "https://localhost:8080/"
        },
        "outputId": "38a69fc0-a89b-4689-f6d6-f0168b95ed35"
      },
      "source": [
        "train_test['construction_year'].describe()"
      ],
      "execution_count": 328,
      "outputs": [
        {
          "output_type": "execute_result",
          "data": {
            "text/plain": [
              "count    74250.000000\n",
              "mean      1298.463650\n",
              "std        952.349375\n",
              "min          0.000000\n",
              "25%          0.000000\n",
              "50%       1986.000000\n",
              "75%       2004.000000\n",
              "max       2013.000000\n",
              "Name: construction_year, dtype: float64"
            ]
          },
          "metadata": {},
          "execution_count": 328
        }
      ]
    },
    {
      "cell_type": "code",
      "metadata": {
        "id": "pG2a7Dbar4RY"
      },
      "source": [
        "train_test['construction_year'].replace(to_replace = 0, value = 'missing', inplace=True)# changed the missing values as missing\n",
        "train_label['construction_year'].replace(to_replace = 0, value = 'missing', inplace=True)"
      ],
      "execution_count": 329,
      "outputs": []
    },
    {
      "cell_type": "code",
      "metadata": {
        "id": "zzeEvBGVpdZh"
      },
      "source": [
        "# dividing the construction year to decades to reduce cardinality\n",
        "\n",
        "train_test['construction_year'].replace(to_replace = (1960,1961,1962,1963,1964,1965,1966,1967,1968,1969),\n",
        "                        value ='60s' , inplace=True)\n",
        "train_test['construction_year'].replace(to_replace = (1970,1971,1972,1973,1974,1975,1976,1977,1978,1979),\n",
        "                        value ='70s' , inplace=True)\n",
        "train_test['construction_year'].replace(to_replace = (1980,1981,1982,1983,1984,1985,1986,1987,1988,1989),\n",
        "                        value ='80s' , inplace=True)\n",
        "train_test['construction_year'].replace(to_replace = (1990,1991,1992,1993,1994,1995,1996,1997,1998,1999),\n",
        "                        value ='90s' , inplace=True)\n",
        "train_test['construction_year'].replace(to_replace = (2000,2001,2002,2003,2004,2005,2006,2007,2008,2009),\n",
        "                        value ='00s' , inplace=True)\n",
        "train_test['construction_year'].replace(to_replace = (2010,2011,2012,2013),\n",
        "                        value ='10s' , inplace=True)\n",
        "\n",
        "train_label['construction_year'].replace(to_replace = (1960,1961,1962,1963,1964,1965,1966,1967,1968,1969),\n",
        "                        value ='60s' , inplace=True)\n",
        "train_label['construction_year'].replace(to_replace = (1970,1971,1972,1973,1974,1975,1976,1977,1978,1979),\n",
        "                        value ='70s' , inplace=True)\n",
        "train_label['construction_year'].replace(to_replace = (1980,1981,1982,1983,1984,1985,1986,1987,1988,1989),\n",
        "                        value ='80s' , inplace=True)\n",
        "train_label['construction_year'].replace(to_replace = (1990,1991,1992,1993,1994,1995,1996,1997,1998,1999),\n",
        "                        value ='90s' , inplace=True)\n",
        "train_label['construction_year'].replace(to_replace = (2000,2001,2002,2003,2004,2005,2006,2007,2008,2009),\n",
        "                        value ='00s' , inplace=True)\n",
        "train_label['construction_year'].replace(to_replace = (2010,2011,2012,2013),\n",
        "                        value ='10s' , inplace=True)"
      ],
      "execution_count": 330,
      "outputs": []
    },
    {
      "cell_type": "code",
      "metadata": {
        "id": "YR81L25IqJlw",
        "colab": {
          "base_uri": "https://localhost:8080/"
        },
        "outputId": "4ac60125-ef1c-43af-e808-8bf6116a8b24"
      },
      "source": [
        "train_test['construction_year'].value_counts()"
      ],
      "execution_count": 331,
      "outputs": [
        {
          "output_type": "execute_result",
          "data": {
            "text/plain": [
              "missing    25969\n",
              "00s        19163\n",
              "90s         9611\n",
              "80s         6939\n",
              "10s         6461\n",
              "70s         5448\n",
              "60s          659\n",
              "Name: construction_year, dtype: int64"
            ]
          },
          "metadata": {},
          "execution_count": 331
        }
      ]
    },
    {
      "cell_type": "code",
      "metadata": {
        "colab": {
          "base_uri": "https://localhost:8080/",
          "height": 611
        },
        "id": "K7vQvs_hPQMZ",
        "outputId": "00083dab-abb9-4159-fd96-e26f9586c806"
      },
      "source": [
        "plt.figure(figsize=(20,10))\n",
        "ax = sns.countplot(x='construction_year', hue=\"status_group\", data=train_label)"
      ],
      "execution_count": 332,
      "outputs": [
        {
          "output_type": "display_data",
          "data": {
            "image/png": "[encoded data removed]",
            "text/plain": [
              "<Figure size 1440x720 with 1 Axes>"
            ]
          },
          "metadata": {
            "needs_background": "light"
          }
        }
      ]
    },
    {
      "cell_type": "markdown",
      "metadata": {
        "id": "18KCbyVnQZZ1"
      },
      "source": [
        "**recorded_by column**"
      ]
    },
    {
      "cell_type": "code",
      "metadata": {
        "colab": {
          "base_uri": "https://localhost:8080/"
        },
        "id": "MueDWWbSQYnX",
        "outputId": "ef1850dd-ecd3-4231-9792-3a1d78a8fc85"
      },
      "source": [
        "train_test['recorded_by'].value_counts()"
      ],
      "execution_count": 333,
      "outputs": [
        {
          "output_type": "execute_result",
          "data": {
            "text/plain": [
              "GeoData Consultants Ltd    74250\n",
              "Name: recorded_by, dtype: int64"
            ]
          },
          "metadata": {},
          "execution_count": 333
        }
      ]
    },
    {
      "cell_type": "markdown",
      "metadata": {
        "id": "IzamYZN6QpQn"
      },
      "source": [
        "This Column has only one distinct value so this column will be dropped."
      ]
    },
    {
      "cell_type": "markdown",
      "metadata": {
        "id": "46jtEpLFWKgz"
      },
      "source": [
        "\n",
        "**management / scheme_management / management_group columns**"
      ]
    },
    {
      "cell_type": "code",
      "metadata": {
        "colab": {
          "base_uri": "https://localhost:8080/"
        },
        "id": "ToCpnzKKWKQT",
        "outputId": "aca3f4bb-1bbf-4002-c897-c8d4d9b3dab7"
      },
      "source": [
        "train_test['scheme_management'].value_counts()"
      ],
      "execution_count": 334,
      "outputs": [
        {
          "output_type": "execute_result",
          "data": {
            "text/plain": [
              "VWC                 45917\n",
              "WUG                  6496\n",
              "Water authority      3975\n",
              "WUA                  3551\n",
              "Water Board          3462\n",
              "Parastatal           2124\n",
              "Company              1341\n",
              "Private operator     1326\n",
              "Other                 996\n",
              "SWC                   123\n",
              "Trust                  92\n",
              "None                    1\n",
              "Name: scheme_management, dtype: int64"
            ]
          },
          "metadata": {},
          "execution_count": 334
        }
      ]
    },
    {
      "cell_type": "code",
      "metadata": {
        "colab": {
          "base_uri": "https://localhost:8080/"
        },
        "id": "qSAbdzHEY0Y2",
        "outputId": "5720939b-c5db-4b11-8402-40a9aedaeabc"
      },
      "source": [
        "train_test['management'].value_counts()"
      ],
      "execution_count": 335,
      "outputs": [
        {
          "output_type": "execute_result",
          "data": {
            "text/plain": [
              "vwc                 50624\n",
              "wug                  8108\n",
              "water board          3688\n",
              "wua                  3118\n",
              "private operator     2504\n",
              "parastatal           2229\n",
              "water authority      1123\n",
              "other                1083\n",
              "company               859\n",
              "unknown               683\n",
              "other - school        126\n",
              "trust                 105\n",
              "Name: management, dtype: int64"
            ]
          },
          "metadata": {},
          "execution_count": 335
        }
      ]
    },
    {
      "cell_type": "markdown",
      "metadata": {
        "id": "iBYe5VTqY6SH"
      },
      "source": [
        "These two columns have almost the same information and as \"scheme management\" has null values i am dropping that column and having the \"management\" column."
      ]
    },
    {
      "cell_type": "code",
      "metadata": {
        "colab": {
          "base_uri": "https://localhost:8080/"
        },
        "id": "8YEH2nWlZ0_M",
        "outputId": "942f5a7e-1ae8-4ad7-93ae-fd6e581f5b25"
      },
      "source": [
        "train_test['management_group'].value_counts()"
      ],
      "execution_count": 336,
      "outputs": [
        {
          "output_type": "execute_result",
          "data": {
            "text/plain": [
              "user-group    65538\n",
              "commercial     4591\n",
              "parastatal     2229\n",
              "other          1209\n",
              "unknown         683\n",
              "Name: management_group, dtype: int64"
            ]
          },
          "metadata": {},
          "execution_count": 336
        }
      ]
    },
    {
      "cell_type": "code",
      "metadata": {
        "colab": {
          "base_uri": "https://localhost:8080/",
          "height": 538
        },
        "id": "MRLCx0albXN8",
        "outputId": "28d34bf3-3abd-46ff-918d-5ff3f10b2d87"
      },
      "source": [
        "train_test.groupby(['management_group','management']).count() "
      ],
      "execution_count": 337,
      "outputs": [
        {
          "output_type": "execute_result",
          "data": {
            "text/html": [
              "<div>\n",
              "<style scoped>\n",
              "    .dataframe tbody tr th:only-of-type {\n",
              "        vertical-align: middle;\n",
              "    }\n",
              "\n",
              "    .dataframe tbody tr th {\n",
              "        vertical-align: top;\n",
              "    }\n",
              "\n",
              "    .dataframe thead th {\n",
              "        text-align: right;\n",
              "    }\n",
              "</style>\n",
              "<table border=\"1\" class=\"dataframe\">\n",
              "  <thead>\n",
              "    <tr style=\"text-align: right;\">\n",
              "      <th></th>\n",
              "      <th></th>\n",
              "      <th>id</th>\n",
              "      <th>amount_tsh</th>\n",
              "      <th>date_recorded</th>\n",
              "      <th>funder</th>\n",
              "      <th>gps_height</th>\n",
              "      <th>installer</th>\n",
              "      <th>longitude</th>\n",
              "      <th>latitude</th>\n",
              "      <th>wpt_name</th>\n",
              "      <th>num_private</th>\n",
              "      <th>basin</th>\n",
              "      <th>subvillage</th>\n",
              "      <th>region</th>\n",
              "      <th>region_code</th>\n",
              "      <th>district_code</th>\n",
              "      <th>lga</th>\n",
              "      <th>ward</th>\n",
              "      <th>population</th>\n",
              "      <th>public_meeting</th>\n",
              "      <th>recorded_by</th>\n",
              "      <th>scheme_management</th>\n",
              "      <th>scheme_name</th>\n",
              "      <th>permit</th>\n",
              "      <th>construction_year</th>\n",
              "      <th>extraction_type</th>\n",
              "      <th>extraction_type_group</th>\n",
              "      <th>extraction_type_class</th>\n",
              "      <th>payment</th>\n",
              "      <th>payment_type</th>\n",
              "      <th>water_quality</th>\n",
              "      <th>quality_group</th>\n",
              "      <th>quantity</th>\n",
              "      <th>quantity_group</th>\n",
              "      <th>source</th>\n",
              "      <th>source_type</th>\n",
              "      <th>source_class</th>\n",
              "      <th>waterpoint_type</th>\n",
              "      <th>waterpoint_type_group</th>\n",
              "      <th>ind</th>\n",
              "    </tr>\n",
              "    <tr>\n",
              "      <th>management_group</th>\n",
              "      <th>management</th>\n",
              "      <th></th>\n",
              "      <th></th>\n",
              "      <th></th>\n",
              "      <th></th>\n",
              "      <th></th>\n",
              "      <th></th>\n",
              "      <th></th>\n",
              "      <th></th>\n",
              "      <th></th>\n",
              "      <th></th>\n",
              "      <th></th>\n",
              "      <th></th>\n",
              "      <th></th>\n",
              "      <th></th>\n",
              "      <th></th>\n",
              "      <th></th>\n",
              "      <th></th>\n",
              "      <th></th>\n",
              "      <th></th>\n",
              "      <th></th>\n",
              "      <th></th>\n",
              "      <th></th>\n",
              "      <th></th>\n",
              "      <th></th>\n",
              "      <th></th>\n",
              "      <th></th>\n",
              "      <th></th>\n",
              "      <th></th>\n",
              "      <th></th>\n",
              "      <th></th>\n",
              "      <th></th>\n",
              "      <th></th>\n",
              "      <th></th>\n",
              "      <th></th>\n",
              "      <th></th>\n",
              "      <th></th>\n",
              "      <th></th>\n",
              "      <th></th>\n",
              "      <th></th>\n",
              "    </tr>\n",
              "  </thead>\n",
              "  <tbody>\n",
              "    <tr>\n",
              "      <th rowspan=\"4\" valign=\"top\">commercial</th>\n",
              "      <th>company</th>\n",
              "      <td>859</td>\n",
              "      <td>859</td>\n",
              "      <td>859</td>\n",
              "      <td>859</td>\n",
              "      <td>859</td>\n",
              "      <td>859</td>\n",
              "      <td>859</td>\n",
              "      <td>859</td>\n",
              "      <td>859</td>\n",
              "      <td>859</td>\n",
              "      <td>859</td>\n",
              "      <td>859</td>\n",
              "      <td>859</td>\n",
              "      <td>859</td>\n",
              "      <td>859</td>\n",
              "      <td>859</td>\n",
              "      <td>859</td>\n",
              "      <td>859</td>\n",
              "      <td>858</td>\n",
              "      <td>859</td>\n",
              "      <td>858</td>\n",
              "      <td>825</td>\n",
              "      <td>825</td>\n",
              "      <td>859</td>\n",
              "      <td>859</td>\n",
              "      <td>859</td>\n",
              "      <td>859</td>\n",
              "      <td>859</td>\n",
              "      <td>859</td>\n",
              "      <td>859</td>\n",
              "      <td>859</td>\n",
              "      <td>859</td>\n",
              "      <td>859</td>\n",
              "      <td>859</td>\n",
              "      <td>859</td>\n",
              "      <td>859</td>\n",
              "      <td>859</td>\n",
              "      <td>859</td>\n",
              "      <td>859</td>\n",
              "    </tr>\n",
              "    <tr>\n",
              "      <th>private operator</th>\n",
              "      <td>2504</td>\n",
              "      <td>2504</td>\n",
              "      <td>2504</td>\n",
              "      <td>2504</td>\n",
              "      <td>2504</td>\n",
              "      <td>2504</td>\n",
              "      <td>2504</td>\n",
              "      <td>2504</td>\n",
              "      <td>2504</td>\n",
              "      <td>2504</td>\n",
              "      <td>2504</td>\n",
              "      <td>2456</td>\n",
              "      <td>2504</td>\n",
              "      <td>2504</td>\n",
              "      <td>2504</td>\n",
              "      <td>2504</td>\n",
              "      <td>2504</td>\n",
              "      <td>2504</td>\n",
              "      <td>2117</td>\n",
              "      <td>2504</td>\n",
              "      <td>2343</td>\n",
              "      <td>1271</td>\n",
              "      <td>2409</td>\n",
              "      <td>2504</td>\n",
              "      <td>2504</td>\n",
              "      <td>2504</td>\n",
              "      <td>2504</td>\n",
              "      <td>2504</td>\n",
              "      <td>2504</td>\n",
              "      <td>2504</td>\n",
              "      <td>2504</td>\n",
              "      <td>2504</td>\n",
              "      <td>2504</td>\n",
              "      <td>2504</td>\n",
              "      <td>2504</td>\n",
              "      <td>2504</td>\n",
              "      <td>2504</td>\n",
              "      <td>2504</td>\n",
              "      <td>2504</td>\n",
              "    </tr>\n",
              "    <tr>\n",
              "      <th>trust</th>\n",
              "      <td>105</td>\n",
              "      <td>105</td>\n",
              "      <td>105</td>\n",
              "      <td>105</td>\n",
              "      <td>105</td>\n",
              "      <td>105</td>\n",
              "      <td>105</td>\n",
              "      <td>105</td>\n",
              "      <td>105</td>\n",
              "      <td>105</td>\n",
              "      <td>105</td>\n",
              "      <td>105</td>\n",
              "      <td>105</td>\n",
              "      <td>105</td>\n",
              "      <td>105</td>\n",
              "      <td>105</td>\n",
              "      <td>105</td>\n",
              "      <td>105</td>\n",
              "      <td>104</td>\n",
              "      <td>105</td>\n",
              "      <td>104</td>\n",
              "      <td>37</td>\n",
              "      <td>104</td>\n",
              "      <td>105</td>\n",
              "      <td>105</td>\n",
              "      <td>105</td>\n",
              "      <td>105</td>\n",
              "      <td>105</td>\n",
              "      <td>105</td>\n",
              "      <td>105</td>\n",
              "      <td>105</td>\n",
              "      <td>105</td>\n",
              "      <td>105</td>\n",
              "      <td>105</td>\n",
              "      <td>105</td>\n",
              "      <td>105</td>\n",
              "      <td>105</td>\n",
              "      <td>105</td>\n",
              "      <td>105</td>\n",
              "    </tr>\n",
              "    <tr>\n",
              "      <th>water authority</th>\n",
              "      <td>1123</td>\n",
              "      <td>1123</td>\n",
              "      <td>1123</td>\n",
              "      <td>1123</td>\n",
              "      <td>1123</td>\n",
              "      <td>1123</td>\n",
              "      <td>1123</td>\n",
              "      <td>1123</td>\n",
              "      <td>1123</td>\n",
              "      <td>1123</td>\n",
              "      <td>1123</td>\n",
              "      <td>1112</td>\n",
              "      <td>1123</td>\n",
              "      <td>1123</td>\n",
              "      <td>1123</td>\n",
              "      <td>1123</td>\n",
              "      <td>1123</td>\n",
              "      <td>1123</td>\n",
              "      <td>1094</td>\n",
              "      <td>1123</td>\n",
              "      <td>1121</td>\n",
              "      <td>780</td>\n",
              "      <td>1035</td>\n",
              "      <td>1123</td>\n",
              "      <td>1123</td>\n",
              "      <td>1123</td>\n",
              "      <td>1123</td>\n",
              "      <td>1123</td>\n",
              "      <td>1123</td>\n",
              "      <td>1123</td>\n",
              "      <td>1123</td>\n",
              "      <td>1123</td>\n",
              "      <td>1123</td>\n",
              "      <td>1123</td>\n",
              "      <td>1123</td>\n",
              "      <td>1123</td>\n",
              "      <td>1123</td>\n",
              "      <td>1123</td>\n",
              "      <td>1123</td>\n",
              "    </tr>\n",
              "    <tr>\n",
              "      <th rowspan=\"2\" valign=\"top\">other</th>\n",
              "      <th>other</th>\n",
              "      <td>1083</td>\n",
              "      <td>1083</td>\n",
              "      <td>1083</td>\n",
              "      <td>1083</td>\n",
              "      <td>1083</td>\n",
              "      <td>1083</td>\n",
              "      <td>1083</td>\n",
              "      <td>1083</td>\n",
              "      <td>1083</td>\n",
              "      <td>1083</td>\n",
              "      <td>1083</td>\n",
              "      <td>1078</td>\n",
              "      <td>1083</td>\n",
              "      <td>1083</td>\n",
              "      <td>1083</td>\n",
              "      <td>1083</td>\n",
              "      <td>1083</td>\n",
              "      <td>1083</td>\n",
              "      <td>878</td>\n",
              "      <td>1083</td>\n",
              "      <td>853</td>\n",
              "      <td>336</td>\n",
              "      <td>958</td>\n",
              "      <td>1083</td>\n",
              "      <td>1083</td>\n",
              "      <td>1083</td>\n",
              "      <td>1083</td>\n",
              "      <td>1083</td>\n",
              "      <td>1083</td>\n",
              "      <td>1083</td>\n",
              "      <td>1083</td>\n",
              "      <td>1083</td>\n",
              "      <td>1083</td>\n",
              "      <td>1083</td>\n",
              "      <td>1083</td>\n",
              "      <td>1083</td>\n",
              "      <td>1083</td>\n",
              "      <td>1083</td>\n",
              "      <td>1083</td>\n",
              "    </tr>\n",
              "    <tr>\n",
              "      <th>other - school</th>\n",
              "      <td>126</td>\n",
              "      <td>126</td>\n",
              "      <td>126</td>\n",
              "      <td>126</td>\n",
              "      <td>126</td>\n",
              "      <td>126</td>\n",
              "      <td>126</td>\n",
              "      <td>126</td>\n",
              "      <td>126</td>\n",
              "      <td>126</td>\n",
              "      <td>126</td>\n",
              "      <td>126</td>\n",
              "      <td>126</td>\n",
              "      <td>126</td>\n",
              "      <td>126</td>\n",
              "      <td>126</td>\n",
              "      <td>126</td>\n",
              "      <td>126</td>\n",
              "      <td>126</td>\n",
              "      <td>126</td>\n",
              "      <td>126</td>\n",
              "      <td>0</td>\n",
              "      <td>126</td>\n",
              "      <td>126</td>\n",
              "      <td>126</td>\n",
              "      <td>126</td>\n",
              "      <td>126</td>\n",
              "      <td>126</td>\n",
              "      <td>126</td>\n",
              "      <td>126</td>\n",
              "      <td>126</td>\n",
              "      <td>126</td>\n",
              "      <td>126</td>\n",
              "      <td>126</td>\n",
              "      <td>126</td>\n",
              "      <td>126</td>\n",
              "      <td>126</td>\n",
              "      <td>126</td>\n",
              "      <td>126</td>\n",
              "    </tr>\n",
              "    <tr>\n",
              "      <th>parastatal</th>\n",
              "      <th>parastatal</th>\n",
              "      <td>2229</td>\n",
              "      <td>2229</td>\n",
              "      <td>2229</td>\n",
              "      <td>2229</td>\n",
              "      <td>2229</td>\n",
              "      <td>2229</td>\n",
              "      <td>2229</td>\n",
              "      <td>2229</td>\n",
              "      <td>2229</td>\n",
              "      <td>2229</td>\n",
              "      <td>2229</td>\n",
              "      <td>2229</td>\n",
              "      <td>2229</td>\n",
              "      <td>2229</td>\n",
              "      <td>2229</td>\n",
              "      <td>2229</td>\n",
              "      <td>2229</td>\n",
              "      <td>2229</td>\n",
              "      <td>1917</td>\n",
              "      <td>2229</td>\n",
              "      <td>2214</td>\n",
              "      <td>756</td>\n",
              "      <td>2009</td>\n",
              "      <td>2229</td>\n",
              "      <td>2229</td>\n",
              "      <td>2229</td>\n",
              "      <td>2229</td>\n",
              "      <td>2229</td>\n",
              "      <td>2229</td>\n",
              "      <td>2229</td>\n",
              "      <td>2229</td>\n",
              "      <td>2229</td>\n",
              "      <td>2229</td>\n",
              "      <td>2229</td>\n",
              "      <td>2229</td>\n",
              "      <td>2229</td>\n",
              "      <td>2229</td>\n",
              "      <td>2229</td>\n",
              "      <td>2229</td>\n",
              "    </tr>\n",
              "    <tr>\n",
              "      <th>unknown</th>\n",
              "      <th>unknown</th>\n",
              "      <td>683</td>\n",
              "      <td>683</td>\n",
              "      <td>683</td>\n",
              "      <td>683</td>\n",
              "      <td>683</td>\n",
              "      <td>683</td>\n",
              "      <td>683</td>\n",
              "      <td>683</td>\n",
              "      <td>683</td>\n",
              "      <td>683</td>\n",
              "      <td>683</td>\n",
              "      <td>683</td>\n",
              "      <td>683</td>\n",
              "      <td>683</td>\n",
              "      <td>683</td>\n",
              "      <td>683</td>\n",
              "      <td>683</td>\n",
              "      <td>683</td>\n",
              "      <td>371</td>\n",
              "      <td>683</td>\n",
              "      <td>105</td>\n",
              "      <td>274</td>\n",
              "      <td>630</td>\n",
              "      <td>683</td>\n",
              "      <td>683</td>\n",
              "      <td>683</td>\n",
              "      <td>683</td>\n",
              "      <td>683</td>\n",
              "      <td>683</td>\n",
              "      <td>683</td>\n",
              "      <td>683</td>\n",
              "      <td>683</td>\n",
              "      <td>683</td>\n",
              "      <td>683</td>\n",
              "      <td>683</td>\n",
              "      <td>683</td>\n",
              "      <td>683</td>\n",
              "      <td>683</td>\n",
              "      <td>683</td>\n",
              "    </tr>\n",
              "    <tr>\n",
              "      <th rowspan=\"4\" valign=\"top\">user-group</th>\n",
              "      <th>vwc</th>\n",
              "      <td>50624</td>\n",
              "      <td>50624</td>\n",
              "      <td>50624</td>\n",
              "      <td>50624</td>\n",
              "      <td>50624</td>\n",
              "      <td>50624</td>\n",
              "      <td>50624</td>\n",
              "      <td>50624</td>\n",
              "      <td>50624</td>\n",
              "      <td>50624</td>\n",
              "      <td>50624</td>\n",
              "      <td>50218</td>\n",
              "      <td>50624</td>\n",
              "      <td>50624</td>\n",
              "      <td>50624</td>\n",
              "      <td>50624</td>\n",
              "      <td>50624</td>\n",
              "      <td>50624</td>\n",
              "      <td>49003</td>\n",
              "      <td>50624</td>\n",
              "      <td>47559</td>\n",
              "      <td>27584</td>\n",
              "      <td>47890</td>\n",
              "      <td>50624</td>\n",
              "      <td>50624</td>\n",
              "      <td>50624</td>\n",
              "      <td>50624</td>\n",
              "      <td>50624</td>\n",
              "      <td>50624</td>\n",
              "      <td>50624</td>\n",
              "      <td>50624</td>\n",
              "      <td>50624</td>\n",
              "      <td>50624</td>\n",
              "      <td>50624</td>\n",
              "      <td>50624</td>\n",
              "      <td>50624</td>\n",
              "      <td>50624</td>\n",
              "      <td>50624</td>\n",
              "      <td>50624</td>\n",
              "    </tr>\n",
              "    <tr>\n",
              "      <th>water board</th>\n",
              "      <td>3688</td>\n",
              "      <td>3688</td>\n",
              "      <td>3688</td>\n",
              "      <td>3688</td>\n",
              "      <td>3688</td>\n",
              "      <td>3688</td>\n",
              "      <td>3688</td>\n",
              "      <td>3688</td>\n",
              "      <td>3688</td>\n",
              "      <td>3688</td>\n",
              "      <td>3688</td>\n",
              "      <td>3688</td>\n",
              "      <td>3688</td>\n",
              "      <td>3688</td>\n",
              "      <td>3688</td>\n",
              "      <td>3688</td>\n",
              "      <td>3688</td>\n",
              "      <td>3688</td>\n",
              "      <td>3637</td>\n",
              "      <td>3688</td>\n",
              "      <td>3688</td>\n",
              "      <td>3230</td>\n",
              "      <td>3552</td>\n",
              "      <td>3688</td>\n",
              "      <td>3688</td>\n",
              "      <td>3688</td>\n",
              "      <td>3688</td>\n",
              "      <td>3688</td>\n",
              "      <td>3688</td>\n",
              "      <td>3688</td>\n",
              "      <td>3688</td>\n",
              "      <td>3688</td>\n",
              "      <td>3688</td>\n",
              "      <td>3688</td>\n",
              "      <td>3688</td>\n",
              "      <td>3688</td>\n",
              "      <td>3688</td>\n",
              "      <td>3688</td>\n",
              "      <td>3688</td>\n",
              "    </tr>\n",
              "    <tr>\n",
              "      <th>wua</th>\n",
              "      <td>3118</td>\n",
              "      <td>3118</td>\n",
              "      <td>3118</td>\n",
              "      <td>3118</td>\n",
              "      <td>3118</td>\n",
              "      <td>3118</td>\n",
              "      <td>3118</td>\n",
              "      <td>3118</td>\n",
              "      <td>3118</td>\n",
              "      <td>3118</td>\n",
              "      <td>3118</td>\n",
              "      <td>3118</td>\n",
              "      <td>3118</td>\n",
              "      <td>3118</td>\n",
              "      <td>3118</td>\n",
              "      <td>3118</td>\n",
              "      <td>3118</td>\n",
              "      <td>3118</td>\n",
              "      <td>3102</td>\n",
              "      <td>3118</td>\n",
              "      <td>3110</td>\n",
              "      <td>2466</td>\n",
              "      <td>3042</td>\n",
              "      <td>3118</td>\n",
              "      <td>3118</td>\n",
              "      <td>3118</td>\n",
              "      <td>3118</td>\n",
              "      <td>3118</td>\n",
              "      <td>3118</td>\n",
              "      <td>3118</td>\n",
              "      <td>3118</td>\n",
              "      <td>3118</td>\n",
              "      <td>3118</td>\n",
              "      <td>3118</td>\n",
              "      <td>3118</td>\n",
              "      <td>3118</td>\n",
              "      <td>3118</td>\n",
              "      <td>3118</td>\n",
              "      <td>3118</td>\n",
              "    </tr>\n",
              "    <tr>\n",
              "      <th>wug</th>\n",
              "      <td>8108</td>\n",
              "      <td>8108</td>\n",
              "      <td>8108</td>\n",
              "      <td>8108</td>\n",
              "      <td>8108</td>\n",
              "      <td>8108</td>\n",
              "      <td>8108</td>\n",
              "      <td>8108</td>\n",
              "      <td>8108</td>\n",
              "      <td>8108</td>\n",
              "      <td>8108</td>\n",
              "      <td>8108</td>\n",
              "      <td>8108</td>\n",
              "      <td>8108</td>\n",
              "      <td>8108</td>\n",
              "      <td>8108</td>\n",
              "      <td>8108</td>\n",
              "      <td>8108</td>\n",
              "      <td>6888</td>\n",
              "      <td>8108</td>\n",
              "      <td>7323</td>\n",
              "      <td>1433</td>\n",
              "      <td>7877</td>\n",
              "      <td>8108</td>\n",
              "      <td>8108</td>\n",
              "      <td>8108</td>\n",
              "      <td>8108</td>\n",
              "      <td>8108</td>\n",
              "      <td>8108</td>\n",
              "      <td>8108</td>\n",
              "      <td>8108</td>\n",
              "      <td>8108</td>\n",
              "      <td>8108</td>\n",
              "      <td>8108</td>\n",
              "      <td>8108</td>\n",
              "      <td>8108</td>\n",
              "      <td>8108</td>\n",
              "      <td>8108</td>\n",
              "      <td>8108</td>\n",
              "    </tr>\n",
              "  </tbody>\n",
              "</table>\n",
              "</div>"
            ],
            "text/plain": [
              "                                      id  ...    ind\n",
              "management_group management               ...       \n",
              "commercial       company             859  ...    859\n",
              "                 private operator   2504  ...   2504\n",
              "                 trust               105  ...    105\n",
              "                 water authority    1123  ...   1123\n",
              "other            other              1083  ...   1083\n",
              "                 other - school      126  ...    126\n",
              "parastatal       parastatal         2229  ...   2229\n",
              "unknown          unknown             683  ...    683\n",
              "user-group       vwc               50624  ...  50624\n",
              "                 water board        3688  ...   3688\n",
              "                 wua                3118  ...   3118\n",
              "                 wug                8108  ...   8108\n",
              "\n",
              "[12 rows x 39 columns]"
            ]
          },
          "metadata": {},
          "execution_count": 337
        }
      ]
    },
    {
      "cell_type": "markdown",
      "metadata": {
        "id": "6cDBzTnTbivq"
      },
      "source": [
        "**quantity, quantity_group columns**"
      ]
    },
    {
      "cell_type": "code",
      "metadata": {
        "colab": {
          "base_uri": "https://localhost:8080/"
        },
        "id": "Wj8Q-xU0bdpc",
        "outputId": "15b71cce-8350-469d-ff26-1266c7b7c2b0"
      },
      "source": [
        "train_test['quantity'].value_counts()"
      ],
      "execution_count": 338,
      "outputs": [
        {
          "output_type": "execute_result",
          "data": {
            "text/plain": [
              "enough          41522\n",
              "insufficient    18896\n",
              "dry              7782\n",
              "seasonal         5075\n",
              "unknown           975\n",
              "Name: quantity, dtype: int64"
            ]
          },
          "metadata": {},
          "execution_count": 338
        }
      ]
    },
    {
      "cell_type": "code",
      "metadata": {
        "colab": {
          "base_uri": "https://localhost:8080/"
        },
        "id": "bBP3YiKSbqQy",
        "outputId": "c7a1c6b9-051f-4dd4-a4e9-88467f1e5d67"
      },
      "source": [
        "train_test['quantity_group'].value_counts()"
      ],
      "execution_count": 339,
      "outputs": [
        {
          "output_type": "execute_result",
          "data": {
            "text/plain": [
              "enough          41522\n",
              "insufficient    18896\n",
              "dry              7782\n",
              "seasonal         5075\n",
              "unknown           975\n",
              "Name: quantity_group, dtype: int64"
            ]
          },
          "metadata": {},
          "execution_count": 339
        }
      ]
    },
    {
      "cell_type": "markdown",
      "metadata": {
        "id": "saApUm0Ebwaa"
      },
      "source": [
        "both are almost same columns with same information so i decided to drop one of the columns"
      ]
    },
    {
      "cell_type": "code",
      "metadata": {
        "colab": {
          "base_uri": "https://localhost:8080/",
          "height": 285
        },
        "id": "e3ZhTA_cb7it",
        "outputId": "598cc3f7-cc8c-42a1-aefc-55c712934d91"
      },
      "source": [
        "ax = sns.countplot(x='quantity', hue=\"status_group\", data=train_label)"
      ],
      "execution_count": 340,
      "outputs": [
        {
          "output_type": "display_data",
          "data": {
            "image/png": "[encoded data removed]",
            "text/plain": [
              "<Figure size 432x288 with 1 Axes>"
            ]
          },
          "metadata": {
            "needs_background": "light"
          }
        }
      ]
    },
    {
      "cell_type": "markdown",
      "metadata": {
        "id": "4C9PbxDTcEXS"
      },
      "source": [
        "dry wells are seems to be totally non functional"
      ]
    },
    {
      "cell_type": "markdown",
      "metadata": {
        "id": "8_UesvvTcaeq"
      },
      "source": [
        "**source , source_type , source_class columns**"
      ]
    },
    {
      "cell_type": "code",
      "metadata": {
        "colab": {
          "base_uri": "https://localhost:8080/"
        },
        "id": "HMZ_apIDcPK1",
        "outputId": "b3f0cc83-4f99-4845-8bf4-18627950130c"
      },
      "source": [
        "train_test['source'].value_counts()"
      ],
      "execution_count": 341,
      "outputs": [
        {
          "output_type": "execute_result",
          "data": {
            "text/plain": [
              "spring                  21216\n",
              "shallow well            21140\n",
              "machine dbh             13822\n",
              "river                   11964\n",
              "rainwater harvesting     2863\n",
              "hand dtw                 1108\n",
              "lake                      950\n",
              "dam                       840\n",
              "other                     261\n",
              "unknown                    86\n",
              "Name: source, dtype: int64"
            ]
          },
          "metadata": {},
          "execution_count": 341
        }
      ]
    },
    {
      "cell_type": "code",
      "metadata": {
        "colab": {
          "base_uri": "https://localhost:8080/"
        },
        "id": "E--aNWvAcjUd",
        "outputId": "5577ec75-5bc1-4dad-ca15-46662af23d4a"
      },
      "source": [
        "train_test['source_type'].value_counts()"
      ],
      "execution_count": 342,
      "outputs": [
        {
          "output_type": "execute_result",
          "data": {
            "text/plain": [
              "spring                  21216\n",
              "shallow well            21140\n",
              "borehole                14930\n",
              "river/lake              12914\n",
              "rainwater harvesting     2863\n",
              "dam                       840\n",
              "other                     347\n",
              "Name: source_type, dtype: int64"
            ]
          },
          "metadata": {},
          "execution_count": 342
        }
      ]
    },
    {
      "cell_type": "code",
      "metadata": {
        "colab": {
          "base_uri": "https://localhost:8080/"
        },
        "id": "pNu3AeR8cni2",
        "outputId": "2a27ec24-4201-439b-97a1-5c842d76c7f5"
      },
      "source": [
        "train_test['source_class'].value_counts()"
      ],
      "execution_count": 343,
      "outputs": [
        {
          "output_type": "execute_result",
          "data": {
            "text/plain": [
              "groundwater    57286\n",
              "surface        16617\n",
              "unknown          347\n",
              "Name: source_class, dtype: int64"
            ]
          },
          "metadata": {},
          "execution_count": 343
        }
      ]
    },
    {
      "cell_type": "markdown",
      "metadata": {
        "id": "qsWULEmbcrUM"
      },
      "source": [
        "These three seems to be hierachical data and source and source type provide the same. so i decided to drop the source type as source provides more detailed value"
      ]
    },
    {
      "cell_type": "markdown",
      "metadata": {
        "id": "McygjU6reMM1"
      },
      "source": [
        "**water_quality , quality_group columns**"
      ]
    },
    {
      "cell_type": "code",
      "metadata": {
        "colab": {
          "base_uri": "https://localhost:8080/"
        },
        "id": "k3bdxASbeL_W",
        "outputId": "c9861525-a68a-480a-c2a9-2a31409c8e9c"
      },
      "source": [
        "train_test['water_quality'].value_counts()"
      ],
      "execution_count": 344,
      "outputs": [
        {
          "output_type": "execute_result",
          "data": {
            "text/plain": [
              "soft                  63505\n",
              "salty                  6082\n",
              "unknown                2345\n",
              "milky                  1005\n",
              "coloured                623\n",
              "salty abandoned         423\n",
              "fluoride                244\n",
              "fluoride abandoned       23\n",
              "Name: water_quality, dtype: int64"
            ]
          },
          "metadata": {},
          "execution_count": 344
        }
      ]
    },
    {
      "cell_type": "code",
      "metadata": {
        "colab": {
          "base_uri": "https://localhost:8080/"
        },
        "id": "MoYKbL6pdCQf",
        "outputId": "8ace967f-e21e-467b-a545-e0808139d02e"
      },
      "source": [
        "train_test['quality_group'].value_counts()"
      ],
      "execution_count": 345,
      "outputs": [
        {
          "output_type": "execute_result",
          "data": {
            "text/plain": [
              "good        63505\n",
              "salty        6505\n",
              "unknown      2345\n",
              "milky        1005\n",
              "colored       623\n",
              "fluoride      267\n",
              "Name: quality_group, dtype: int64"
            ]
          },
          "metadata": {},
          "execution_count": 345
        }
      ]
    },
    {
      "cell_type": "markdown",
      "metadata": {
        "id": "oK8UnHxrekqu"
      },
      "source": [
        "same type of information though the water quality provides more explanation so i am dropping the  quality_group column"
      ]
    },
    {
      "cell_type": "code",
      "metadata": {
        "colab": {
          "base_uri": "https://localhost:8080/",
          "height": 611
        },
        "id": "PE6PtBUue2qY",
        "outputId": "985b41d8-3bed-4f34-b1cf-ad03781a4ff9"
      },
      "source": [
        "plt.figure(figsize=(20,10))\n",
        "ax = sns.countplot(x='water_quality', hue=\"status_group\", data=train_label)"
      ],
      "execution_count": 346,
      "outputs": [
        {
          "output_type": "display_data",
          "data": {
            "image/png": "[encoded data removed]",
            "text/plain": [
              "<Figure size 1440x720 with 1 Axes>"
            ]
          },
          "metadata": {
            "needs_background": "light"
          }
        }
      ]
    },
    {
      "cell_type": "markdown",
      "metadata": {
        "id": "edc5OetEe11m"
      },
      "source": [
        "**payment,payment_type columns**"
      ]
    },
    {
      "cell_type": "code",
      "metadata": {
        "colab": {
          "base_uri": "https://localhost:8080/"
        },
        "id": "onkPAhNxfH8e",
        "outputId": "a76c0889-a1e2-49dc-aa25-86c75c3920fa"
      },
      "source": [
        "train_test['payment'].value_counts()"
      ],
      "execution_count": 347,
      "outputs": [
        {
          "output_type": "execute_result",
          "data": {
            "text/plain": [
              "never pay                31712\n",
              "pay per bucket           11266\n",
              "pay monthly              10397\n",
              "unknown                  10149\n",
              "pay when scheme fails     4842\n",
              "pay annually              4570\n",
              "other                     1314\n",
              "Name: payment, dtype: int64"
            ]
          },
          "metadata": {},
          "execution_count": 347
        }
      ]
    },
    {
      "cell_type": "code",
      "metadata": {
        "colab": {
          "base_uri": "https://localhost:8080/"
        },
        "id": "UmqU0JnSfLHR",
        "outputId": "76559327-f7ab-4352-bba4-d719a07a8293"
      },
      "source": [
        "train_test['payment_type'].value_counts()"
      ],
      "execution_count": 348,
      "outputs": [
        {
          "output_type": "execute_result",
          "data": {
            "text/plain": [
              "never pay     31712\n",
              "per bucket    11266\n",
              "monthly       10397\n",
              "unknown       10149\n",
              "on failure     4842\n",
              "annually       4570\n",
              "other          1314\n",
              "Name: payment_type, dtype: int64"
            ]
          },
          "metadata": {},
          "execution_count": 348
        }
      ]
    },
    {
      "cell_type": "markdown",
      "metadata": {
        "id": "VcEcP_83fXKg"
      },
      "source": [
        "same columns so i decided to remove the 'payment' column"
      ]
    },
    {
      "cell_type": "code",
      "metadata": {
        "colab": {
          "base_uri": "https://localhost:8080/",
          "height": 611
        },
        "id": "FajYLCaPfW5O",
        "outputId": "f7308591-506a-46b6-83c5-20d53014b8a4"
      },
      "source": [
        "plt.figure(figsize=(20,10))\n",
        "ax = sns.countplot(x='payment_type', hue=\"status_group\", data=train_label)"
      ],
      "execution_count": 349,
      "outputs": [
        {
          "output_type": "display_data",
          "data": {
            "image/png": "[encoded data removed]",
            "text/plain": [
              "<Figure size 1440x720 with 1 Axes>"
            ]
          },
          "metadata": {
            "needs_background": "light"
          }
        }
      ]
    },
    {
      "cell_type": "markdown",
      "metadata": {
        "id": "0Il375tZf7hZ"
      },
      "source": [
        "**extraction_type, extraction_type_group**"
      ]
    },
    {
      "cell_type": "code",
      "metadata": {
        "colab": {
          "base_uri": "https://localhost:8080/"
        },
        "id": "wsfkf8nlf5Tb",
        "outputId": "3ecd306c-164d-44e6-9526-5371307d68b7"
      },
      "source": [
        "train_test['extraction_type'].value_counts()"
      ],
      "execution_count": 350,
      "outputs": [
        {
          "output_type": "execute_result",
          "data": {
            "text/plain": [
              "gravity                      33263\n",
              "nira/tanira                  10205\n",
              "other                         8102\n",
              "submersible                   5982\n",
              "swn 80                        4588\n",
              "mono                          3628\n",
              "india mark ii                 3029\n",
              "afridev                       2208\n",
              "ksb                           1790\n",
              "other - rope pump              572\n",
              "other - swn 81                 284\n",
              "windmill                       152\n",
              "india mark iii                 135\n",
              "cemo                           108\n",
              "other - play pump              101\n",
              "walimi                          60\n",
              "climax                          41\n",
              "other - mkulima/shinyanga        2\n",
              "Name: extraction_type, dtype: int64"
            ]
          },
          "metadata": {},
          "execution_count": 350
        }
      ]
    },
    {
      "cell_type": "code",
      "metadata": {
        "colab": {
          "base_uri": "https://localhost:8080/"
        },
        "id": "VfG1N_NbgHMs",
        "outputId": "27ec235a-24dc-4a44-8099-3cd9cbfacd4f"
      },
      "source": [
        "train_test['extraction_type_group'].value_counts()"
      ],
      "execution_count": 351,
      "outputs": [
        {
          "output_type": "execute_result",
          "data": {
            "text/plain": [
              "gravity            33263\n",
              "nira/tanira        10205\n",
              "other               8102\n",
              "submersible         7772\n",
              "swn 80              4588\n",
              "mono                3628\n",
              "india mark ii       3029\n",
              "afridev             2208\n",
              "rope pump            572\n",
              "other handpump       447\n",
              "wind-powered         152\n",
              "other motorpump      149\n",
              "india mark iii       135\n",
              "Name: extraction_type_group, dtype: int64"
            ]
          },
          "metadata": {},
          "execution_count": 351
        }
      ]
    },
    {
      "cell_type": "markdown",
      "metadata": {
        "id": "247NvrvagS2G"
      },
      "source": [
        "both contain almost same amount of information so decided to drop the extraction_type and extraction_type_class"
      ]
    },
    {
      "cell_type": "code",
      "metadata": {
        "colab": {
          "base_uri": "https://localhost:8080/",
          "height": 611
        },
        "id": "arjEV3hEgiWV",
        "outputId": "b6f088c8-7d6b-4e52-df59-38813881019c"
      },
      "source": [
        "plt.figure(figsize=(20,10))\n",
        "ax = sns.countplot(x='extraction_type_group', hue=\"status_group\", data=train_label)"
      ],
      "execution_count": 352,
      "outputs": [
        {
          "output_type": "display_data",
          "data": {
            "image/png": "[encoded data removed]",
            "text/plain": [
              "<Figure size 1440x720 with 1 Axes>"
            ]
          },
          "metadata": {
            "needs_background": "light"
          }
        }
      ]
    },
    {
      "cell_type": "markdown",
      "metadata": {
        "id": "HdpwN_6UgyCZ"
      },
      "source": [
        "\n",
        "**waterpoint_type, waterpoint_type_group**"
      ]
    },
    {
      "cell_type": "code",
      "metadata": {
        "colab": {
          "base_uri": "https://localhost:8080/"
        },
        "id": "hOoCIUXPgxp0",
        "outputId": "02e8aeee-9fd1-4a70-abf5-9fd540407da0"
      },
      "source": [
        "train_test['waterpoint_type'].value_counts()"
      ],
      "execution_count": 353,
      "outputs": [
        {
          "output_type": "execute_result",
          "data": {
            "text/plain": [
              "communal standpipe             35628\n",
              "hand pump                      21884\n",
              "other                           8010\n",
              "communal standpipe multiple     7611\n",
              "improved spring                  959\n",
              "cattle trough                    150\n",
              "dam                                8\n",
              "Name: waterpoint_type, dtype: int64"
            ]
          },
          "metadata": {},
          "execution_count": 353
        }
      ]
    },
    {
      "cell_type": "code",
      "metadata": {
        "colab": {
          "base_uri": "https://localhost:8080/"
        },
        "id": "54XftpMCg65A",
        "outputId": "3aefcc68-de1c-4ebd-c3ee-21ce5668353f"
      },
      "source": [
        "train_test['waterpoint_type_group'].value_counts()"
      ],
      "execution_count": 354,
      "outputs": [
        {
          "output_type": "execute_result",
          "data": {
            "text/plain": [
              "communal standpipe    43239\n",
              "hand pump             21884\n",
              "other                  8010\n",
              "improved spring         959\n",
              "cattle trough           150\n",
              "dam                       8\n",
              "Name: waterpoint_type_group, dtype: int64"
            ]
          },
          "metadata": {},
          "execution_count": 354
        }
      ]
    },
    {
      "cell_type": "markdown",
      "metadata": {
        "id": "9rBN6NU4g-GI"
      },
      "source": [
        "waterpoint_type is more detailed so decided to keep that and drop the waterpoint_type_group"
      ]
    },
    {
      "cell_type": "code",
      "metadata": {
        "id": "zcXcK55mhJ0N"
      },
      "source": [
        "#dropping similar columns and non functional columns\n",
        "train_test.drop(columns=['scheme_management','quantity_group','source_type','quality_group','recorded_by',\n",
        "                'payment','extraction_type_class','extraction_type', 'waterpoint_type_group','wpt_name','scheme_name','region_code'],inplace=True )"
      ],
      "execution_count": 355,
      "outputs": []
    },
    {
      "cell_type": "code",
      "metadata": {
        "id": "qAYjTcsYm4uP"
      },
      "source": [
        "train_test.drop(columns=['num_private','date_recorded'],inplace=True )"
      ],
      "execution_count": 356,
      "outputs": []
    },
    {
      "cell_type": "code",
      "metadata": {
        "colab": {
          "base_uri": "https://localhost:8080/"
        },
        "id": "2cHoL75XqSiU",
        "outputId": "9ace6ff1-80d8-4590-da0f-cbd5de0b4412"
      },
      "source": [
        "len(train_test.columns)"
      ],
      "execution_count": 357,
      "outputs": [
        {
          "output_type": "execute_result",
          "data": {
            "text/plain": [
              "27"
            ]
          },
          "metadata": {},
          "execution_count": 357
        }
      ]
    },
    {
      "cell_type": "markdown",
      "metadata": {
        "id": "wc_8WXcgfNsI"
      },
      "source": [
        "**Filling Other Missing Values**"
      ]
    },
    {
      "cell_type": "code",
      "metadata": {
        "id": "em06eONFXKgG"
      },
      "source": [
        "cat_col = ['funder', 'installer', 'basin',\n",
        "       'subvillage', 'region', 'lga', 'ward', 'public_meeting',\n",
        "       'permit', 'extraction_type_group', 'management', 'management_group', \n",
        "       'payment_type', 'water_quality','quantity',\n",
        "        'source', 'source_class',\n",
        "       'waterpoint_type','construction_year','district_code']"
      ],
      "execution_count": 358,
      "outputs": []
    },
    {
      "cell_type": "code",
      "metadata": {
        "id": "LNc71uuQXl7a"
      },
      "source": [
        "num_col = ['gps_height','longitude','latitude','population','amount_tsh']"
      ],
      "execution_count": 359,
      "outputs": []
    },
    {
      "cell_type": "code",
      "metadata": {
        "colab": {
          "base_uri": "https://localhost:8080/"
        },
        "id": "XpYls5Fq94Jg",
        "outputId": "f6fc31fd-34aa-4abb-e009-a4805e668028"
      },
      "source": [
        "len(cat_col)+len(num_col)"
      ],
      "execution_count": 360,
      "outputs": [
        {
          "output_type": "execute_result",
          "data": {
            "text/plain": [
              "25"
            ]
          },
          "metadata": {},
          "execution_count": 360
        }
      ]
    },
    {
      "cell_type": "code",
      "metadata": {
        "id": "I27sGqQidOIL"
      },
      "source": [
        "for col in (cat_col):\n",
        "    train_test[col] = train_test[col].fillna(value='missing')"
      ],
      "execution_count": 361,
      "outputs": []
    },
    {
      "cell_type": "code",
      "metadata": {
        "id": "iad0vfhgdXLM"
      },
      "source": [
        "for col in num_col:\n",
        "    train_test[col] = train_test[col].fillna(value=-1)"
      ],
      "execution_count": 362,
      "outputs": []
    },
    {
      "cell_type": "markdown",
      "metadata": {
        "id": "wttU4ce_TLUR"
      },
      "source": [
        "**Dividing the Test and Train after cleaning**"
      ]
    },
    {
      "cell_type": "code",
      "metadata": {
        "id": "-7V0_7DoRrrb"
      },
      "source": [
        "cleaned_test, cleaned_train = train_test[train_test[\"ind\"].eq(\"test\")], train_test[train_test[\"ind\"].eq(\"train\")]\n",
        "cleaned_train=cleaned_train.drop(['ind'], axis=1)\n",
        "cleaned_test=cleaned_test.drop(['ind'], axis=1)"
      ],
      "execution_count": 363,
      "outputs": []
    },
    {
      "cell_type": "code",
      "metadata": {
        "id": "K7r0oHgIZhxV"
      },
      "source": [
        "cleaned_train.set_index('id', inplace=True)\n",
        "label.set_index('id',inplace=True)\n",
        "cleaned_train_label = pd.merge(cleaned_train, label, how = 'inner', left_index = True,right_index=True)"
      ],
      "execution_count": 364,
      "outputs": []
    },
    {
      "cell_type": "code",
      "metadata": {
        "id": "tfkOQs1vaHDI"
      },
      "source": [
        "cleaned_train_label.reset_index(inplace=True)\n",
        "cleaned_train.reset_index(inplace=True)\n",
        "label.reset_index(inplace=True)"
      ],
      "execution_count": 365,
      "outputs": []
    },
    {
      "cell_type": "code",
      "metadata": {
        "colab": {
          "base_uri": "https://localhost:8080/",
          "height": 903
        },
        "id": "MsbwPfYDqege",
        "outputId": "2feedb17-1f02-4e44-ea0e-22250c23226a"
      },
      "source": [
        "pd.plotting.scatter_matrix(cleaned_train,figsize=(15,15)) #pair-wise scatterplot\n",
        "plt.show()"
      ],
      "execution_count": 366,
      "outputs": [
        {
          "output_type": "display_data",
          "data": {
            "image/png": "[encoded data removed]",
            "text/plain": [
              "<Figure size 1080x1080 with 49 Axes>"
            ]
          },
          "metadata": {
            "needs_background": "light"
          }
        }
      ]
    },
    {
      "cell_type": "code",
      "metadata": {
        "colab": {
          "base_uri": "https://localhost:8080/"
        },
        "id": "b0Q-vpNvb86R",
        "outputId": "f0b8960f-7b5e-4ef7-de51-aa8500b23e1e"
      },
      "source": [
        "print(train.shape, cleaned_train.shape,test.shape, cleaned_test.shape, cleaned_train_label.shape)"
      ],
      "execution_count": 368,
      "outputs": [
        {
          "output_type": "stream",
          "name": "stdout",
          "text": [
            "(59400, 40) (59400, 26) (14850, 40) (14850, 26) (59400, 27)\n"
          ]
        }
      ]
    },
    {
      "cell_type": "code",
      "metadata": {
        "colab": {
          "base_uri": "https://localhost:8080/"
        },
        "id": "ygdsgquTbhr7",
        "outputId": "7edafb64-ee23-43fa-9960-d7d43a985988"
      },
      "source": [
        "num_cols = cleaned_train.select_dtypes('number').columns\n",
        "len(num_cols)"
      ],
      "execution_count": 369,
      "outputs": [
        {
          "output_type": "execute_result",
          "data": {
            "text/plain": [
              "7"
            ]
          },
          "metadata": {},
          "execution_count": 369
        }
      ]
    },
    {
      "cell_type": "code",
      "metadata": {
        "colab": {
          "base_uri": "https://localhost:8080/"
        },
        "id": "wpyR5QDKavvk",
        "outputId": "a3551d61-b841-4f5c-d470-f91d6acd775f"
      },
      "source": [
        "cat_cols= cleaned_train.select_dtypes('object').columns\n",
        "len(cat_cols)"
      ],
      "execution_count": 370,
      "outputs": [
        {
          "output_type": "execute_result",
          "data": {
            "text/plain": [
              "19"
            ]
          },
          "metadata": {},
          "execution_count": 370
        }
      ]
    },
    {
      "cell_type": "markdown",
      "metadata": {
        "id": "aFTPoeWCttJu"
      },
      "source": [
        "# **Model Preparation and Tuning**"
      ]
    },
    {
      "cell_type": "markdown",
      "metadata": {
        "id": "Et0cVHpOtPnA"
      },
      "source": [
        "**Importing Needed Modules for Model**"
      ]
    },
    {
      "cell_type": "code",
      "metadata": {
        "id": "orXPeaaOdj27",
        "colab": {
          "base_uri": "https://localhost:8080/"
        },
        "outputId": "440637eb-91fe-499b-dbe3-7934c2896ae9"
      },
      "source": [
        "from sklearn.preprocessing import MinMaxScaler, StandardScaler, OneHotEncoder\n",
        "from sklearn.impute import SimpleImputer\n",
        "from catboost import CatBoostClassifier\n",
        "from catboost import Pool, cv\n",
        "from sklearn.metrics import roc_curve, roc_auc_score\n",
        "from sklearn.model_selection import train_test_split\n",
        "from sklearn.compose import ColumnTransformer\n",
        "from sklearn.preprocessing import RobustScaler as re\n",
        "from sklearn.pipeline import make_pipeline, Pipeline\n",
        "from imblearn.over_sampling import SMOTE\n",
        "from category_encoders import TargetEncoder\n",
        "from mlxtend.feature_selection import SequentialFeatureSelector as SFS\n",
        "from mlxtend.plotting import plot_sequential_feature_selection as plot_sfs\n",
        "import optuna"
      ],
      "execution_count": 374,
      "outputs": [
        {
          "output_type": "stream",
          "name": "stderr",
          "text": [
            "/usr/local/lib/python3.7/dist-packages/statsmodels/tools/_testing.py:19: FutureWarning: pandas.util.testing is deprecated. Use the functions in the public API at pandas.testing instead.\n",
            "  import pandas.util.testing as tm\n",
            "/usr/local/lib/python3.7/dist-packages/sklearn/externals/joblib/__init__.py:15: FutureWarning: sklearn.externals.joblib is deprecated in 0.21 and will be removed in 0.23. Please import this functionality directly from joblib, which can be installed with: pip install joblib. If this warning is raised when loading pickled models, you may need to re-serialize those models with scikit-learn 0.21+.\n",
            "  warnings.warn(msg, category=FutureWarning)\n"
          ]
        }
      ]
    },
    {
      "cell_type": "markdown",
      "metadata": {
        "id": "1uo6adxhtzl9"
      },
      "source": [
        "**encoding the Categorical variables**"
      ]
    },
    {
      "cell_type": "code",
      "metadata": {
        "colab": {
          "base_uri": "https://localhost:8080/"
        },
        "id": "SXZyB5AhXTRD",
        "outputId": "75bbf065-e640-456c-e1e7-e061503748f1"
      },
      "source": [
        "encoder =TargetEncoder()\n",
        "\n",
        "for c in cat_col:\n",
        "    cleaned_train_label[c] = encoder.fit_transform(cleaned_train_label[c].values, cleaned_train_label[\"status_group\"])"
      ],
      "execution_count": null,
      "outputs": [
        {
          "output_type": "stream",
          "name": "stderr",
          "text": [
            "/usr/local/lib/python3.7/dist-packages/category_encoders/utils.py:21: FutureWarning: is_categorical is deprecated and will be removed in a future version.  Use is_categorical_dtype instead\n",
            "  elif pd.api.types.is_categorical(cols):\n",
            "/usr/local/lib/python3.7/dist-packages/category_encoders/utils.py:21: FutureWarning: is_categorical is deprecated and will be removed in a future version.  Use is_categorical_dtype instead\n",
            "  elif pd.api.types.is_categorical(cols):\n",
            "/usr/local/lib/python3.7/dist-packages/category_encoders/utils.py:21: FutureWarning: is_categorical is deprecated and will be removed in a future version.  Use is_categorical_dtype instead\n",
            "  elif pd.api.types.is_categorical(cols):\n",
            "/usr/local/lib/python3.7/dist-packages/category_encoders/utils.py:21: FutureWarning: is_categorical is deprecated and will be removed in a future version.  Use is_categorical_dtype instead\n",
            "  elif pd.api.types.is_categorical(cols):\n",
            "/usr/local/lib/python3.7/dist-packages/category_encoders/utils.py:21: FutureWarning: is_categorical is deprecated and will be removed in a future version.  Use is_categorical_dtype instead\n",
            "  elif pd.api.types.is_categorical(cols):\n",
            "/usr/local/lib/python3.7/dist-packages/category_encoders/utils.py:21: FutureWarning: is_categorical is deprecated and will be removed in a future version.  Use is_categorical_dtype instead\n",
            "  elif pd.api.types.is_categorical(cols):\n",
            "/usr/local/lib/python3.7/dist-packages/category_encoders/utils.py:21: FutureWarning: is_categorical is deprecated and will be removed in a future version.  Use is_categorical_dtype instead\n",
            "  elif pd.api.types.is_categorical(cols):\n",
            "/usr/local/lib/python3.7/dist-packages/category_encoders/utils.py:21: FutureWarning: is_categorical is deprecated and will be removed in a future version.  Use is_categorical_dtype instead\n",
            "  elif pd.api.types.is_categorical(cols):\n",
            "/usr/local/lib/python3.7/dist-packages/category_encoders/utils.py:21: FutureWarning: is_categorical is deprecated and will be removed in a future version.  Use is_categorical_dtype instead\n",
            "  elif pd.api.types.is_categorical(cols):\n",
            "/usr/local/lib/python3.7/dist-packages/category_encoders/utils.py:21: FutureWarning: is_categorical is deprecated and will be removed in a future version.  Use is_categorical_dtype instead\n",
            "  elif pd.api.types.is_categorical(cols):\n",
            "/usr/local/lib/python3.7/dist-packages/category_encoders/utils.py:21: FutureWarning: is_categorical is deprecated and will be removed in a future version.  Use is_categorical_dtype instead\n",
            "  elif pd.api.types.is_categorical(cols):\n",
            "/usr/local/lib/python3.7/dist-packages/category_encoders/utils.py:21: FutureWarning: is_categorical is deprecated and will be removed in a future version.  Use is_categorical_dtype instead\n",
            "  elif pd.api.types.is_categorical(cols):\n",
            "/usr/local/lib/python3.7/dist-packages/category_encoders/utils.py:21: FutureWarning: is_categorical is deprecated and will be removed in a future version.  Use is_categorical_dtype instead\n",
            "  elif pd.api.types.is_categorical(cols):\n",
            "/usr/local/lib/python3.7/dist-packages/category_encoders/utils.py:21: FutureWarning: is_categorical is deprecated and will be removed in a future version.  Use is_categorical_dtype instead\n",
            "  elif pd.api.types.is_categorical(cols):\n",
            "/usr/local/lib/python3.7/dist-packages/category_encoders/utils.py:21: FutureWarning: is_categorical is deprecated and will be removed in a future version.  Use is_categorical_dtype instead\n",
            "  elif pd.api.types.is_categorical(cols):\n",
            "/usr/local/lib/python3.7/dist-packages/category_encoders/utils.py:21: FutureWarning: is_categorical is deprecated and will be removed in a future version.  Use is_categorical_dtype instead\n",
            "  elif pd.api.types.is_categorical(cols):\n",
            "/usr/local/lib/python3.7/dist-packages/category_encoders/utils.py:21: FutureWarning: is_categorical is deprecated and will be removed in a future version.  Use is_categorical_dtype instead\n",
            "  elif pd.api.types.is_categorical(cols):\n",
            "/usr/local/lib/python3.7/dist-packages/category_encoders/utils.py:21: FutureWarning: is_categorical is deprecated and will be removed in a future version.  Use is_categorical_dtype instead\n",
            "  elif pd.api.types.is_categorical(cols):\n",
            "/usr/local/lib/python3.7/dist-packages/category_encoders/utils.py:21: FutureWarning: is_categorical is deprecated and will be removed in a future version.  Use is_categorical_dtype instead\n",
            "  elif pd.api.types.is_categorical(cols):\n",
            "/usr/local/lib/python3.7/dist-packages/category_encoders/utils.py:21: FutureWarning: is_categorical is deprecated and will be removed in a future version.  Use is_categorical_dtype instead\n",
            "  elif pd.api.types.is_categorical(cols):\n",
            "/usr/local/lib/python3.7/dist-packages/category_encoders/utils.py:21: FutureWarning: is_categorical is deprecated and will be removed in a future version.  Use is_categorical_dtype instead\n",
            "  elif pd.api.types.is_categorical(cols):\n",
            "/usr/local/lib/python3.7/dist-packages/category_encoders/utils.py:21: FutureWarning: is_categorical is deprecated and will be removed in a future version.  Use is_categorical_dtype instead\n",
            "  elif pd.api.types.is_categorical(cols):\n",
            "/usr/local/lib/python3.7/dist-packages/category_encoders/utils.py:21: FutureWarning: is_categorical is deprecated and will be removed in a future version.  Use is_categorical_dtype instead\n",
            "  elif pd.api.types.is_categorical(cols):\n",
            "/usr/local/lib/python3.7/dist-packages/category_encoders/utils.py:21: FutureWarning: is_categorical is deprecated and will be removed in a future version.  Use is_categorical_dtype instead\n",
            "  elif pd.api.types.is_categorical(cols):\n",
            "/usr/local/lib/python3.7/dist-packages/category_encoders/utils.py:21: FutureWarning: is_categorical is deprecated and will be removed in a future version.  Use is_categorical_dtype instead\n",
            "  elif pd.api.types.is_categorical(cols):\n",
            "/usr/local/lib/python3.7/dist-packages/category_encoders/utils.py:21: FutureWarning: is_categorical is deprecated and will be removed in a future version.  Use is_categorical_dtype instead\n",
            "  elif pd.api.types.is_categorical(cols):\n",
            "/usr/local/lib/python3.7/dist-packages/category_encoders/utils.py:21: FutureWarning: is_categorical is deprecated and will be removed in a future version.  Use is_categorical_dtype instead\n",
            "  elif pd.api.types.is_categorical(cols):\n",
            "/usr/local/lib/python3.7/dist-packages/category_encoders/utils.py:21: FutureWarning: is_categorical is deprecated and will be removed in a future version.  Use is_categorical_dtype instead\n",
            "  elif pd.api.types.is_categorical(cols):\n",
            "/usr/local/lib/python3.7/dist-packages/category_encoders/utils.py:21: FutureWarning: is_categorical is deprecated and will be removed in a future version.  Use is_categorical_dtype instead\n",
            "  elif pd.api.types.is_categorical(cols):\n",
            "/usr/local/lib/python3.7/dist-packages/category_encoders/utils.py:21: FutureWarning: is_categorical is deprecated and will be removed in a future version.  Use is_categorical_dtype instead\n",
            "  elif pd.api.types.is_categorical(cols):\n",
            "/usr/local/lib/python3.7/dist-packages/category_encoders/utils.py:21: FutureWarning: is_categorical is deprecated and will be removed in a future version.  Use is_categorical_dtype instead\n",
            "  elif pd.api.types.is_categorical(cols):\n"
          ]
        }
      ]
    },
    {
      "cell_type": "code",
      "metadata": {
        "id": "Oj7AEfdphU_g"
      },
      "source": [
        "# scaling numerical columns\n",
        "\n",
        "scaler = re()\n",
        "\n",
        "\n",
        "def scaleColumns(df, num_col):\n",
        "    for col in num_col:\n",
        "        df[col] = pd.DataFrame(scaler.fit_transform(pd.DataFrame(df[col])),columns=[col])\n",
        "    return df\n",
        "\n",
        "cleaned_train_label = scaleColumns(cleaned_train_label,[num_col])"
      ],
      "execution_count": null,
      "outputs": []
    },
    {
      "cell_type": "code",
      "metadata": {
        "colab": {
          "base_uri": "https://localhost:8080/",
          "height": 438
        },
        "id": "aM0yvNLbk-Z5",
        "outputId": "b978cc0b-c09a-4380-8391-8ee2ade25c91"
      },
      "source": [
        "# assign X and y\n",
        "used_cols = [c for c in cleaned_train_label.columns.tolist() if c not in ['status_group']]\n",
        "X=cleaned_train_label[used_cols]\n",
        "y=cleaned_train_label['status_group']\n",
        "X"
      ],
      "execution_count": null,
      "outputs": [
        {
          "output_type": "execute_result",
          "data": {
            "text/html": [
              "<div>\n",
              "<style scoped>\n",
              "    .dataframe tbody tr th:only-of-type {\n",
              "        vertical-align: middle;\n",
              "    }\n",
              "\n",
              "    .dataframe tbody tr th {\n",
              "        vertical-align: top;\n",
              "    }\n",
              "\n",
              "    .dataframe thead th {\n",
              "        text-align: right;\n",
              "    }\n",
              "</style>\n",
              "<table border=\"1\" class=\"dataframe\">\n",
              "  <thead>\n",
              "    <tr style=\"text-align: right;\">\n",
              "      <th></th>\n",
              "      <th>id</th>\n",
              "      <th>amount_tsh</th>\n",
              "      <th>date_recorded</th>\n",
              "      <th>funder</th>\n",
              "      <th>gps_height</th>\n",
              "      <th>installer</th>\n",
              "      <th>longitude</th>\n",
              "      <th>latitude</th>\n",
              "      <th>wpt_name</th>\n",
              "      <th>num_private</th>\n",
              "      <th>basin</th>\n",
              "      <th>subvillage</th>\n",
              "      <th>region</th>\n",
              "      <th>region_code</th>\n",
              "      <th>district_code</th>\n",
              "      <th>lga</th>\n",
              "      <th>ward</th>\n",
              "      <th>population</th>\n",
              "      <th>public_meeting</th>\n",
              "      <th>scheme_name</th>\n",
              "      <th>permit</th>\n",
              "      <th>construction_year</th>\n",
              "      <th>extraction_type</th>\n",
              "      <th>extraction_type_group</th>\n",
              "      <th>extraction_type_class</th>\n",
              "      <th>management</th>\n",
              "      <th>management_group</th>\n",
              "      <th>payment</th>\n",
              "      <th>payment_type</th>\n",
              "      <th>water_quality</th>\n",
              "      <th>quality_group</th>\n",
              "      <th>quantity</th>\n",
              "      <th>quantity_group</th>\n",
              "      <th>source</th>\n",
              "      <th>source_type</th>\n",
              "      <th>source_class</th>\n",
              "      <th>waterpoint_type</th>\n",
              "      <th>waterpoint_type_group</th>\n",
              "    </tr>\n",
              "  </thead>\n",
              "  <tbody>\n",
              "    <tr>\n",
              "      <th>0</th>\n",
              "      <td>69572</td>\n",
              "      <td>300.00</td>\n",
              "      <td>0.665385</td>\n",
              "      <td>3.236364e-01</td>\n",
              "      <td>0.773925</td>\n",
              "      <td>0.755028</td>\n",
              "      <td>-0.054981</td>\n",
              "      <td>-0.858738</td>\n",
              "      <td>0.502386</td>\n",
              "      <td>0.0</td>\n",
              "      <td>0.643461</td>\n",
              "      <td>0.336732</td>\n",
              "      <td>0.412354</td>\n",
              "      <td>0.413396</td>\n",
              "      <td>0.817264</td>\n",
              "      <td>0.430851</td>\n",
              "      <td>0.750000</td>\n",
              "      <td>0.390698</td>\n",
              "      <td>0.813295</td>\n",
              "      <td>2.014388e-01</td>\n",
              "      <td>0.890350</td>\n",
              "      <td>0.854389</td>\n",
              "      <td>0.700635</td>\n",
              "      <td>0.700635</td>\n",
              "      <td>0.700635</td>\n",
              "      <td>0.922631</td>\n",
              "      <td>0.849114</td>\n",
              "      <td>0.427512</td>\n",
              "      <td>0.427512</td>\n",
              "      <td>0.791294</td>\n",
              "      <td>0.791294</td>\n",
              "      <td>0.623034</td>\n",
              "      <td>0.623034</td>\n",
              "      <td>0.680454</td>\n",
              "      <td>0.680454</td>\n",
              "      <td>0.855505</td>\n",
              "      <td>0.677793</td>\n",
              "      <td>0.763032</td>\n",
              "    </tr>\n",
              "    <tr>\n",
              "      <th>1</th>\n",
              "      <td>8776</td>\n",
              "      <td>0.00</td>\n",
              "      <td>0.681818</td>\n",
              "      <td>3.773585e-01</td>\n",
              "      <td>0.780747</td>\n",
              "      <td>0.755028</td>\n",
              "      <td>-0.117562</td>\n",
              "      <td>0.640318</td>\n",
              "      <td>0.869880</td>\n",
              "      <td>0.0</td>\n",
              "      <td>0.908177</td>\n",
              "      <td>0.015129</td>\n",
              "      <td>1.069578</td>\n",
              "      <td>1.069578</td>\n",
              "      <td>0.814105</td>\n",
              "      <td>0.777933</td>\n",
              "      <td>0.746479</td>\n",
              "      <td>1.186047</td>\n",
              "      <td>0.946611</td>\n",
              "      <td>9.000923e-01</td>\n",
              "      <td>0.821708</td>\n",
              "      <td>0.487115</td>\n",
              "      <td>0.700635</td>\n",
              "      <td>0.700635</td>\n",
              "      <td>0.700635</td>\n",
              "      <td>0.701919</td>\n",
              "      <td>0.849114</td>\n",
              "      <td>1.026945</td>\n",
              "      <td>1.026945</td>\n",
              "      <td>0.791294</td>\n",
              "      <td>0.791294</td>\n",
              "      <td>0.857691</td>\n",
              "      <td>0.857691</td>\n",
              "      <td>0.655338</td>\n",
              "      <td>0.655338</td>\n",
              "      <td>0.791792</td>\n",
              "      <td>0.677793</td>\n",
              "      <td>0.763032</td>\n",
              "    </tr>\n",
              "    <tr>\n",
              "      <th>2</th>\n",
              "      <td>34310</td>\n",
              "      <td>1.25</td>\n",
              "      <td>0.790614</td>\n",
              "      <td>7.663413e-04</td>\n",
              "      <td>0.240288</td>\n",
              "      <td>0.621145</td>\n",
              "      <td>0.604634</td>\n",
              "      <td>0.314821</td>\n",
              "      <td>0.100269</td>\n",
              "      <td>0.0</td>\n",
              "      <td>0.744855</td>\n",
              "      <td>0.996016</td>\n",
              "      <td>0.692356</td>\n",
              "      <td>0.692356</td>\n",
              "      <td>0.699967</td>\n",
              "      <td>0.821429</td>\n",
              "      <td>0.200079</td>\n",
              "      <td>1.046512</td>\n",
              "      <td>0.813295</td>\n",
              "      <td>2.820837e-04</td>\n",
              "      <td>0.821708</td>\n",
              "      <td>0.633072</td>\n",
              "      <td>0.700635</td>\n",
              "      <td>0.700635</td>\n",
              "      <td>0.700635</td>\n",
              "      <td>0.922631</td>\n",
              "      <td>0.849114</td>\n",
              "      <td>0.598887</td>\n",
              "      <td>0.598887</td>\n",
              "      <td>0.791294</td>\n",
              "      <td>0.791294</td>\n",
              "      <td>0.623034</td>\n",
              "      <td>0.623034</td>\n",
              "      <td>1.192073</td>\n",
              "      <td>1.192073</td>\n",
              "      <td>0.791792</td>\n",
              "      <td>1.161396</td>\n",
              "      <td>0.763032</td>\n",
              "    </tr>\n",
              "    <tr>\n",
              "      <th>3</th>\n",
              "      <td>67743</td>\n",
              "      <td>0.00</td>\n",
              "      <td>1.162234</td>\n",
              "      <td>7.710501e-01</td>\n",
              "      <td>-0.080349</td>\n",
              "      <td>0.755028</td>\n",
              "      <td>0.872786</td>\n",
              "      <td>-1.111336</td>\n",
              "      <td>0.841162</td>\n",
              "      <td>0.0</td>\n",
              "      <td>1.184064</td>\n",
              "      <td>1.058824</td>\n",
              "      <td>1.321387</td>\n",
              "      <td>1.470011</td>\n",
              "      <td>1.338462</td>\n",
              "      <td>1.468354</td>\n",
              "      <td>1.625000</td>\n",
              "      <td>0.153488</td>\n",
              "      <td>0.813295</td>\n",
              "      <td>9.000923e-01</td>\n",
              "      <td>0.821708</td>\n",
              "      <td>1.128182</td>\n",
              "      <td>0.849916</td>\n",
              "      <td>0.881534</td>\n",
              "      <td>0.881534</td>\n",
              "      <td>0.922631</td>\n",
              "      <td>0.849114</td>\n",
              "      <td>1.026945</td>\n",
              "      <td>1.026945</td>\n",
              "      <td>0.791294</td>\n",
              "      <td>0.791294</td>\n",
              "      <td>1.943804</td>\n",
              "      <td>1.943804</td>\n",
              "      <td>0.976524</td>\n",
              "      <td>0.966775</td>\n",
              "      <td>0.855505</td>\n",
              "      <td>1.161396</td>\n",
              "      <td>0.763032</td>\n",
              "    </tr>\n",
              "    <tr>\n",
              "      <th>4</th>\n",
              "      <td>19728</td>\n",
              "      <td>0.00</td>\n",
              "      <td>0.991667</td>\n",
              "      <td>8.411616e-01</td>\n",
              "      <td>-0.279704</td>\n",
              "      <td>0.755028</td>\n",
              "      <td>-1.050520</td>\n",
              "      <td>0.702955</td>\n",
              "      <td>0.935355</td>\n",
              "      <td>0.0</td>\n",
              "      <td>0.908177</td>\n",
              "      <td>0.226223</td>\n",
              "      <td>0.866707</td>\n",
              "      <td>0.868231</td>\n",
              "      <td>0.819716</td>\n",
              "      <td>0.880674</td>\n",
              "      <td>0.307696</td>\n",
              "      <td>-0.116279</td>\n",
              "      <td>0.813295</td>\n",
              "      <td>9.000923e-01</td>\n",
              "      <td>0.821708</td>\n",
              "      <td>0.894249</td>\n",
              "      <td>0.700635</td>\n",
              "      <td>0.700635</td>\n",
              "      <td>0.700635</td>\n",
              "      <td>0.738152</td>\n",
              "      <td>0.820785</td>\n",
              "      <td>1.026945</td>\n",
              "      <td>1.026945</td>\n",
              "      <td>0.791294</td>\n",
              "      <td>0.791294</td>\n",
              "      <td>0.749136</td>\n",
              "      <td>0.749136</td>\n",
              "      <td>0.655338</td>\n",
              "      <td>0.655338</td>\n",
              "      <td>0.791792</td>\n",
              "      <td>0.677793</td>\n",
              "      <td>0.763032</td>\n",
              "    </tr>\n",
              "    <tr>\n",
              "      <th>...</th>\n",
              "      <td>...</td>\n",
              "      <td>...</td>\n",
              "      <td>...</td>\n",
              "      <td>...</td>\n",
              "      <td>...</td>\n",
              "      <td>...</td>\n",
              "      <td>...</td>\n",
              "      <td>...</td>\n",
              "      <td>...</td>\n",
              "      <td>...</td>\n",
              "      <td>...</td>\n",
              "      <td>...</td>\n",
              "      <td>...</td>\n",
              "      <td>...</td>\n",
              "      <td>...</td>\n",
              "      <td>...</td>\n",
              "      <td>...</td>\n",
              "      <td>...</td>\n",
              "      <td>...</td>\n",
              "      <td>...</td>\n",
              "      <td>...</td>\n",
              "      <td>...</td>\n",
              "      <td>...</td>\n",
              "      <td>...</td>\n",
              "      <td>...</td>\n",
              "      <td>...</td>\n",
              "      <td>...</td>\n",
              "      <td>...</td>\n",
              "      <td>...</td>\n",
              "      <td>...</td>\n",
              "      <td>...</td>\n",
              "      <td>...</td>\n",
              "      <td>...</td>\n",
              "      <td>...</td>\n",
              "      <td>...</td>\n",
              "      <td>...</td>\n",
              "      <td>...</td>\n",
              "      <td>...</td>\n",
              "    </tr>\n",
              "    <tr>\n",
              "      <th>59395</th>\n",
              "      <td>60739</td>\n",
              "      <td>0.50</td>\n",
              "      <td>0.821622</td>\n",
              "      <td>2.344262e-01</td>\n",
              "      <td>0.637483</td>\n",
              "      <td>0.755028</td>\n",
              "      <td>0.528579</td>\n",
              "      <td>0.425172</td>\n",
              "      <td>0.841162</td>\n",
              "      <td>0.0</td>\n",
              "      <td>0.744855</td>\n",
              "      <td>0.039893</td>\n",
              "      <td>0.720712</td>\n",
              "      <td>0.720712</td>\n",
              "      <td>0.817264</td>\n",
              "      <td>0.252800</td>\n",
              "      <td>0.051724</td>\n",
              "      <td>0.465116</td>\n",
              "      <td>0.813295</td>\n",
              "      <td>0.000000e+00</td>\n",
              "      <td>0.821708</td>\n",
              "      <td>0.854389</td>\n",
              "      <td>0.700635</td>\n",
              "      <td>0.700635</td>\n",
              "      <td>0.700635</td>\n",
              "      <td>0.429935</td>\n",
              "      <td>0.849114</td>\n",
              "      <td>0.598887</td>\n",
              "      <td>0.598887</td>\n",
              "      <td>0.791294</td>\n",
              "      <td>0.791294</td>\n",
              "      <td>0.623034</td>\n",
              "      <td>0.623034</td>\n",
              "      <td>0.680454</td>\n",
              "      <td>0.680454</td>\n",
              "      <td>0.855505</td>\n",
              "      <td>0.677793</td>\n",
              "      <td>0.763032</td>\n",
              "    </tr>\n",
              "    <tr>\n",
              "      <th>59396</th>\n",
              "      <td>27263</td>\n",
              "      <td>235.00</td>\n",
              "      <td>0.015129</td>\n",
              "      <td>2.346394e-10</td>\n",
              "      <td>0.638999</td>\n",
              "      <td>0.755028</td>\n",
              "      <td>0.026576</td>\n",
              "      <td>-0.705953</td>\n",
              "      <td>0.841162</td>\n",
              "      <td>0.0</td>\n",
              "      <td>0.674398</td>\n",
              "      <td>0.000002</td>\n",
              "      <td>0.412354</td>\n",
              "      <td>0.413396</td>\n",
              "      <td>0.699967</td>\n",
              "      <td>0.358769</td>\n",
              "      <td>0.603774</td>\n",
              "      <td>0.144186</td>\n",
              "      <td>0.813295</td>\n",
              "      <td>8.631900e-11</td>\n",
              "      <td>0.821708</td>\n",
              "      <td>0.854389</td>\n",
              "      <td>0.700635</td>\n",
              "      <td>0.700635</td>\n",
              "      <td>0.700635</td>\n",
              "      <td>0.922631</td>\n",
              "      <td>0.849114</td>\n",
              "      <td>0.427512</td>\n",
              "      <td>0.427512</td>\n",
              "      <td>0.791294</td>\n",
              "      <td>0.791294</td>\n",
              "      <td>0.623034</td>\n",
              "      <td>0.623034</td>\n",
              "      <td>0.735851</td>\n",
              "      <td>0.796666</td>\n",
              "      <td>0.791792</td>\n",
              "      <td>0.677793</td>\n",
              "      <td>0.763032</td>\n",
              "    </tr>\n",
              "    <tr>\n",
              "      <th>59397</th>\n",
              "      <td>37057</td>\n",
              "      <td>0.00</td>\n",
              "      <td>1.025478</td>\n",
              "      <td>7.898212e-01</td>\n",
              "      <td>-0.279704</td>\n",
              "      <td>0.796618</td>\n",
              "      <td>-0.295811</td>\n",
              "      <td>-0.643689</td>\n",
              "      <td>1.066666</td>\n",
              "      <td>0.0</td>\n",
              "      <td>0.674398</td>\n",
              "      <td>0.226223</td>\n",
              "      <td>0.891571</td>\n",
              "      <td>0.891571</td>\n",
              "      <td>0.731080</td>\n",
              "      <td>0.792332</td>\n",
              "      <td>1.079545</td>\n",
              "      <td>-0.116279</td>\n",
              "      <td>0.813295</td>\n",
              "      <td>9.000923e-01</td>\n",
              "      <td>0.890350</td>\n",
              "      <td>0.894249</td>\n",
              "      <td>0.803270</td>\n",
              "      <td>0.803270</td>\n",
              "      <td>0.678597</td>\n",
              "      <td>0.922631</td>\n",
              "      <td>0.849114</td>\n",
              "      <td>0.567349</td>\n",
              "      <td>0.567349</td>\n",
              "      <td>0.425000</td>\n",
              "      <td>0.493088</td>\n",
              "      <td>0.623034</td>\n",
              "      <td>0.623034</td>\n",
              "      <td>0.976524</td>\n",
              "      <td>0.966775</td>\n",
              "      <td>0.855505</td>\n",
              "      <td>0.705455</td>\n",
              "      <td>0.705455</td>\n",
              "    </tr>\n",
              "    <tr>\n",
              "      <th>59398</th>\n",
              "      <td>31282</td>\n",
              "      <td>0.00</td>\n",
              "      <td>0.759146</td>\n",
              "      <td>1.002689e-01</td>\n",
              "      <td>-0.279704</td>\n",
              "      <td>0.755028</td>\n",
              "      <td>0.186428</td>\n",
              "      <td>-0.182459</td>\n",
              "      <td>0.841162</td>\n",
              "      <td>0.0</td>\n",
              "      <td>0.674398</td>\n",
              "      <td>1.125000</td>\n",
              "      <td>0.988187</td>\n",
              "      <td>0.988187</td>\n",
              "      <td>0.699967</td>\n",
              "      <td>1.086455</td>\n",
              "      <td>1.040000</td>\n",
              "      <td>-0.116279</td>\n",
              "      <td>0.813295</td>\n",
              "      <td>9.000923e-01</td>\n",
              "      <td>0.821708</td>\n",
              "      <td>0.894249</td>\n",
              "      <td>0.591734</td>\n",
              "      <td>0.591734</td>\n",
              "      <td>0.678597</td>\n",
              "      <td>0.922631</td>\n",
              "      <td>0.849114</td>\n",
              "      <td>1.026945</td>\n",
              "      <td>1.026945</td>\n",
              "      <td>0.791294</td>\n",
              "      <td>0.791294</td>\n",
              "      <td>0.857691</td>\n",
              "      <td>0.857691</td>\n",
              "      <td>0.953578</td>\n",
              "      <td>0.953578</td>\n",
              "      <td>0.855505</td>\n",
              "      <td>0.705455</td>\n",
              "      <td>0.705455</td>\n",
              "    </tr>\n",
              "    <tr>\n",
              "      <th>59399</th>\n",
              "      <td>26348</td>\n",
              "      <td>0.00</td>\n",
              "      <td>0.870504</td>\n",
              "      <td>1.120089e+00</td>\n",
              "      <td>-0.134925</td>\n",
              "      <td>0.755028</td>\n",
              "      <td>0.772869</td>\n",
              "      <td>-0.254193</td>\n",
              "      <td>0.841162</td>\n",
              "      <td>0.0</td>\n",
              "      <td>0.907466</td>\n",
              "      <td>0.841162</td>\n",
              "      <td>0.867199</td>\n",
              "      <td>0.862871</td>\n",
              "      <td>0.814105</td>\n",
              "      <td>0.932821</td>\n",
              "      <td>1.000000</td>\n",
              "      <td>0.581395</td>\n",
              "      <td>0.813295</td>\n",
              "      <td>9.000923e-01</td>\n",
              "      <td>0.821708</td>\n",
              "      <td>0.633072</td>\n",
              "      <td>0.591734</td>\n",
              "      <td>0.591734</td>\n",
              "      <td>0.678597</td>\n",
              "      <td>0.922631</td>\n",
              "      <td>0.849114</td>\n",
              "      <td>0.688043</td>\n",
              "      <td>0.688043</td>\n",
              "      <td>1.039333</td>\n",
              "      <td>1.021174</td>\n",
              "      <td>0.623034</td>\n",
              "      <td>0.623034</td>\n",
              "      <td>0.953578</td>\n",
              "      <td>0.953578</td>\n",
              "      <td>0.855505</td>\n",
              "      <td>0.705455</td>\n",
              "      <td>0.705455</td>\n",
              "    </tr>\n",
              "  </tbody>\n",
              "</table>\n",
              "<p>59400 rows × 38 columns</p>\n",
              "</div>"
            ],
            "text/plain": [
              "          id  amount_tsh  ...  waterpoint_type  waterpoint_type_group\n",
              "0      69572      300.00  ...         0.677793               0.763032\n",
              "1       8776        0.00  ...         0.677793               0.763032\n",
              "2      34310        1.25  ...         1.161396               0.763032\n",
              "3      67743        0.00  ...         1.161396               0.763032\n",
              "4      19728        0.00  ...         0.677793               0.763032\n",
              "...      ...         ...  ...              ...                    ...\n",
              "59395  60739        0.50  ...         0.677793               0.763032\n",
              "59396  27263      235.00  ...         0.677793               0.763032\n",
              "59397  37057        0.00  ...         0.705455               0.705455\n",
              "59398  31282        0.00  ...         0.705455               0.705455\n",
              "59399  26348        0.00  ...         0.705455               0.705455\n",
              "\n",
              "[59400 rows x 38 columns]"
            ]
          },
          "metadata": {},
          "execution_count": 270
        }
      ]
    },
    {
      "cell_type": "markdown",
      "metadata": {
        "id": "POdypJsJt881"
      },
      "source": [
        "**Over-sampling for the Target imbalance but low accuracy for XGBclassifier so abandoned**"
      ]
    },
    {
      "cell_type": "code",
      "metadata": {
        "colab": {
          "base_uri": "https://localhost:8080/"
        },
        "id": "Pg_kbz9NlTJj",
        "outputId": "ca132d31-3283-4752-d90d-98e0cbf913a9"
      },
      "source": [
        "# making over-sampling \n",
        "\n",
        "smt = SMOTE(sampling_strategy = 'auto', n_jobs = -1)\n",
        "\n",
        "X_sampled, y_sample = smt.fit_sample(X, y)\n",
        "\n",
        "print(y.value_counts())\n",
        "\n",
        "y_sampled = pd.Series(y_sample) # converting from array to np.series to see value_counts\n",
        "\n",
        "print(y_sampled.value_counts())"
      ],
      "execution_count": null,
      "outputs": [
        {
          "output_type": "stream",
          "name": "stderr",
          "text": [
            "/usr/local/lib/python3.7/dist-packages/sklearn/utils/deprecation.py:87: FutureWarning: Function safe_indexing is deprecated; safe_indexing is deprecated in version 0.22 and will be removed in version 0.24.\n",
            "  warnings.warn(msg, category=FutureWarning)\n",
            "/usr/local/lib/python3.7/dist-packages/sklearn/utils/deprecation.py:87: FutureWarning: Function safe_indexing is deprecated; safe_indexing is deprecated in version 0.22 and will be removed in version 0.24.\n",
            "  warnings.warn(msg, category=FutureWarning)\n"
          ]
        },
        {
          "output_type": "stream",
          "name": "stdout",
          "text": [
            "0    32259\n",
            "2    22824\n",
            "1     4317\n",
            "Name: status_group, dtype: int64\n",
            "2    32259\n",
            "1    32259\n",
            "0    32259\n",
            "dtype: int64\n"
          ]
        }
      ]
    },
    {
      "cell_type": "code",
      "metadata": {
        "id": "Ht3azzSEd2Tb"
      },
      "source": [
        "X_train, X_test, y_train, y_test = train_test_split( cleaned_train, label, test_size=0.3, random_state=68)"
      ],
      "execution_count": null,
      "outputs": []
    },
    {
      "cell_type": "code",
      "metadata": {
        "colab": {
          "base_uri": "https://localhost:8080/"
        },
        "id": "BViWTdcKcW5G",
        "outputId": "dde1c5e7-ca35-4072-9284-2881dff8c578"
      },
      "source": [
        "X_train['public_meeting'].value_counts()"
      ],
      "execution_count": null,
      "outputs": [
        {
          "output_type": "execute_result",
          "data": {
            "text/plain": [
              "True       35708\n",
              "False       3537\n",
              "missing     2335\n",
              "Name: public_meeting, dtype: int64"
            ]
          },
          "metadata": {},
          "execution_count": 80
        }
      ]
    },
    {
      "cell_type": "markdown",
      "metadata": {
        "id": "O_HBmRXnuL7e"
      },
      "source": [
        "**Sequential Feature Selection to select the Model based features**"
      ]
    },
    {
      "cell_type": "code",
      "metadata": {
        "id": "q0y98gqjX9wb"
      },
      "source": [
        "ct = ColumnTransformer(\n",
        "      transformers=[('cat', oe(), cat_col),('num',re(),num_col)])\n"
      ],
      "execution_count": null,
      "outputs": []
    },
    {
      "cell_type": "markdown",
      "metadata": {
        "id": "vkL_XuR-uTpL"
      },
      "source": [
        ""
      ]
    },
    {
      "cell_type": "code",
      "metadata": {
        "id": "SNyye3hXVNMB"
      },
      "source": [
        "sfs2 = SFS(CatBoostClassifier(n_estimators=100, verbose=False,loss_function='MultiClass'), \n",
        "           k_features=37, \n",
        "           forward=True, \n",
        "           floating=True, \n",
        "           verbose=2,\n",
        "           scoring='accuracy',\n",
        "           cv=5)"
      ],
      "execution_count": null,
      "outputs": []
    },
    {
      "cell_type": "code",
      "metadata": {
        "colab": {
          "base_uri": "https://localhost:8080/"
        },
        "id": "RcFX-0IZVs8t",
        "outputId": "36e98a50-8c0e-4a70-fecd-c53b4dffa642"
      },
      "source": [
        "sfs2 = sfs2.fit(ct.fit_transform(X_train), np.array(y_train.status_group).ravel())\n"
      ],
      "execution_count": null,
      "outputs": [
        {
          "output_type": "stream",
          "name": "stderr",
          "text": [
            "[Parallel(n_jobs=1)]: Using backend SequentialBackend with 1 concurrent workers.\n",
            "[Parallel(n_jobs=1)]: Done   1 out of   1 | elapsed:    8.5s remaining:    0.0s\n",
            "[Parallel(n_jobs=1)]: Done  37 out of  37 | elapsed:  4.9min finished\n",
            "\n",
            "[2021-09-15 10:25:12] Features: 1/37 -- score: 0.646993746993747[Parallel(n_jobs=1)]: Using backend SequentialBackend with 1 concurrent workers.\n",
            "[Parallel(n_jobs=1)]: Done   1 out of   1 | elapsed:    8.9s remaining:    0.0s\n",
            "[Parallel(n_jobs=1)]: Done  36 out of  36 | elapsed:  5.0min finished\n",
            "[Parallel(n_jobs=1)]: Using backend SequentialBackend with 1 concurrent workers.\n",
            "[Parallel(n_jobs=1)]: Done   1 out of   1 | elapsed:    7.7s remaining:    0.0s\n",
            "[Parallel(n_jobs=1)]: Done   1 out of   1 | elapsed:    7.7s finished\n",
            "\n",
            "[2021-09-15 10:30:20] Features: 2/37 -- score: 0.697089947089947[Parallel(n_jobs=1)]: Using backend SequentialBackend with 1 concurrent workers.\n",
            "[Parallel(n_jobs=1)]: Done   1 out of   1 | elapsed:    9.1s remaining:    0.0s\n",
            "[Parallel(n_jobs=1)]: Done  35 out of  35 | elapsed:  5.2min finished\n",
            "[Parallel(n_jobs=1)]: Using backend SequentialBackend with 1 concurrent workers.\n",
            "[Parallel(n_jobs=1)]: Done   1 out of   1 | elapsed:    8.6s remaining:    0.0s\n",
            "[Parallel(n_jobs=1)]: Done   2 out of   2 | elapsed:   17.4s finished\n",
            "\n",
            "[2021-09-15 10:35:48] Features: 3/37 -- score: 0.7306156806156807[Parallel(n_jobs=1)]: Using backend SequentialBackend with 1 concurrent workers.\n",
            "[Parallel(n_jobs=1)]: Done   1 out of   1 | elapsed:    9.5s remaining:    0.0s\n",
            "[Parallel(n_jobs=1)]: Done  34 out of  34 | elapsed:  5.3min finished\n",
            "[Parallel(n_jobs=1)]: Using backend SequentialBackend with 1 concurrent workers.\n",
            "[Parallel(n_jobs=1)]: Done   1 out of   1 | elapsed:    8.9s remaining:    0.0s\n",
            "[Parallel(n_jobs=1)]: Done   3 out of   3 | elapsed:   27.2s finished\n",
            "\n",
            "[2021-09-15 10:41:31] Features: 4/37 -- score: 0.7451418951418952[Parallel(n_jobs=1)]: Using backend SequentialBackend with 1 concurrent workers.\n",
            "[Parallel(n_jobs=1)]: Done   1 out of   1 | elapsed:    9.8s remaining:    0.0s\n",
            "[Parallel(n_jobs=1)]: Done  33 out of  33 | elapsed:  5.3min finished\n",
            "[Parallel(n_jobs=1)]: Using backend SequentialBackend with 1 concurrent workers.\n",
            "[Parallel(n_jobs=1)]: Done   1 out of   1 | elapsed:    9.3s remaining:    0.0s\n",
            "[Parallel(n_jobs=1)]: Done   4 out of   4 | elapsed:   37.1s finished\n",
            "\n",
            "[2021-09-15 10:47:26] Features: 5/37 -- score: 0.7556277056277056[Parallel(n_jobs=1)]: Using backend SequentialBackend with 1 concurrent workers.\n",
            "[Parallel(n_jobs=1)]: Done   1 out of   1 | elapsed:   10.2s remaining:    0.0s\n",
            "[Parallel(n_jobs=1)]: Done  32 out of  32 | elapsed:  5.3min finished\n",
            "[Parallel(n_jobs=1)]: Using backend SequentialBackend with 1 concurrent workers.\n",
            "[Parallel(n_jobs=1)]: Done   1 out of   1 | elapsed:    9.9s remaining:    0.0s\n",
            "[Parallel(n_jobs=1)]: Done   5 out of   5 | elapsed:   48.2s finished\n",
            "\n",
            "[2021-09-15 10:53:32] Features: 6/37 -- score: 0.7647907647907648[Parallel(n_jobs=1)]: Using backend SequentialBackend with 1 concurrent workers.\n",
            "[Parallel(n_jobs=1)]: Done   1 out of   1 | elapsed:   10.5s remaining:    0.0s\n",
            "[Parallel(n_jobs=1)]: Done  31 out of  31 | elapsed:  5.3min finished\n",
            "[Parallel(n_jobs=1)]: Using backend SequentialBackend with 1 concurrent workers.\n",
            "[Parallel(n_jobs=1)]: Done   1 out of   1 | elapsed:   10.3s remaining:    0.0s\n",
            "[Parallel(n_jobs=1)]: Done   6 out of   6 | elapsed:  1.0min finished\n",
            "\n",
            "[2021-09-15 10:59:52] Features: 7/37 -- score: 0.7694564694564694[Parallel(n_jobs=1)]: Using backend SequentialBackend with 1 concurrent workers.\n",
            "[Parallel(n_jobs=1)]: Done   1 out of   1 | elapsed:   11.1s remaining:    0.0s\n",
            "[Parallel(n_jobs=1)]: Done  30 out of  30 | elapsed:  5.5min finished\n",
            "[Parallel(n_jobs=1)]: Using backend SequentialBackend with 1 concurrent workers.\n",
            "[Parallel(n_jobs=1)]: Done   1 out of   1 | elapsed:   10.7s remaining:    0.0s\n",
            "[Parallel(n_jobs=1)]: Done   7 out of   7 | elapsed:  1.3min finished\n",
            "\n",
            "[2021-09-15 11:06:35] Features: 8/37 -- score: 0.7738095238095238[Parallel(n_jobs=1)]: Using backend SequentialBackend with 1 concurrent workers.\n",
            "[Parallel(n_jobs=1)]: Done   1 out of   1 | elapsed:   11.7s remaining:    0.0s\n",
            "[Parallel(n_jobs=1)]: Done  29 out of  29 | elapsed:  5.6min finished\n",
            "[Parallel(n_jobs=1)]: Using backend SequentialBackend with 1 concurrent workers.\n",
            "[Parallel(n_jobs=1)]: Done   1 out of   1 | elapsed:   10.7s remaining:    0.0s\n",
            "[Parallel(n_jobs=1)]: Done   8 out of   8 | elapsed:  1.5min finished\n",
            "\n",
            "[2021-09-15 11:13:36] Features: 9/37 -- score: 0.7760461760461761[Parallel(n_jobs=1)]: Using backend SequentialBackend with 1 concurrent workers.\n",
            "[Parallel(n_jobs=1)]: Done   1 out of   1 | elapsed:   11.8s remaining:    0.0s\n",
            "[Parallel(n_jobs=1)]: Done  28 out of  28 | elapsed:  5.4min finished\n",
            "[Parallel(n_jobs=1)]: Using backend SequentialBackend with 1 concurrent workers.\n",
            "[Parallel(n_jobs=1)]: Done   1 out of   1 | elapsed:   11.3s remaining:    0.0s\n",
            "[Parallel(n_jobs=1)]: Done   9 out of   9 | elapsed:  1.7min finished\n",
            "\n",
            "[2021-09-15 11:20:46] Features: 10/37 -- score: 0.7763347763347763[Parallel(n_jobs=1)]: Using backend SequentialBackend with 1 concurrent workers.\n",
            "[Parallel(n_jobs=1)]: Done   1 out of   1 | elapsed:   12.3s remaining:    0.0s\n",
            "[Parallel(n_jobs=1)]: Done  27 out of  27 | elapsed:  5.5min finished\n",
            "[Parallel(n_jobs=1)]: Using backend SequentialBackend with 1 concurrent workers.\n",
            "[Parallel(n_jobs=1)]: Done   1 out of   1 | elapsed:   11.3s remaining:    0.0s\n",
            "[Parallel(n_jobs=1)]: Done  10 out of  10 | elapsed:  1.9min finished\n",
            "\n",
            "[2021-09-15 11:28:10] Features: 11/37 -- score: 0.7792929292929294[Parallel(n_jobs=1)]: Using backend SequentialBackend with 1 concurrent workers.\n",
            "[Parallel(n_jobs=1)]: Done   1 out of   1 | elapsed:   12.4s remaining:    0.0s\n",
            "[Parallel(n_jobs=1)]: Done  26 out of  26 | elapsed:  5.3min finished\n",
            "[Parallel(n_jobs=1)]: Using backend SequentialBackend with 1 concurrent workers.\n",
            "[Parallel(n_jobs=1)]: Done   1 out of   1 | elapsed:   12.0s remaining:    0.0s\n",
            "[Parallel(n_jobs=1)]: Done  11 out of  11 | elapsed:  2.2min finished\n",
            "\n",
            "[2021-09-15 11:35:40] Features: 12/37 -- score: 0.7785233285233285[Parallel(n_jobs=1)]: Using backend SequentialBackend with 1 concurrent workers.\n",
            "[Parallel(n_jobs=1)]: Done   1 out of   1 | elapsed:   13.0s remaining:    0.0s\n",
            "[Parallel(n_jobs=1)]: Done  25 out of  25 | elapsed:  5.3min finished\n",
            "[Parallel(n_jobs=1)]: Using backend SequentialBackend with 1 concurrent workers.\n",
            "[Parallel(n_jobs=1)]: Done   1 out of   1 | elapsed:   12.1s remaining:    0.0s\n",
            "[Parallel(n_jobs=1)]: Done  12 out of  12 | elapsed:  2.5min finished\n",
            "\n",
            "[2021-09-15 11:43:28] Features: 13/37 -- score: 0.7797979797979797[Parallel(n_jobs=1)]: Using backend SequentialBackend with 1 concurrent workers.\n",
            "[Parallel(n_jobs=1)]: Done   1 out of   1 | elapsed:   13.3s remaining:    0.0s\n",
            "[Parallel(n_jobs=1)]: Done  24 out of  24 | elapsed:  5.2min finished\n",
            "[Parallel(n_jobs=1)]: Using backend SequentialBackend with 1 concurrent workers.\n",
            "[Parallel(n_jobs=1)]: Done   1 out of   1 | elapsed:   12.4s remaining:    0.0s\n",
            "[Parallel(n_jobs=1)]: Done  13 out of  13 | elapsed:  2.7min finished\n",
            "\n",
            "[2021-09-15 11:51:24] Features: 14/37 -- score: 0.7806878306878307[Parallel(n_jobs=1)]: Using backend SequentialBackend with 1 concurrent workers.\n",
            "[Parallel(n_jobs=1)]: Done   1 out of   1 | elapsed:   13.5s remaining:    0.0s\n",
            "[Parallel(n_jobs=1)]: Done  23 out of  23 | elapsed:  5.1min finished\n",
            "[Parallel(n_jobs=1)]: Using backend SequentialBackend with 1 concurrent workers.\n",
            "[Parallel(n_jobs=1)]: Done   1 out of   1 | elapsed:   13.1s remaining:    0.0s\n",
            "[Parallel(n_jobs=1)]: Done  14 out of  14 | elapsed:  3.1min finished\n",
            "[Parallel(n_jobs=1)]: Using backend SequentialBackend with 1 concurrent workers.\n",
            "[Parallel(n_jobs=1)]: Done   1 out of   1 | elapsed:   12.8s remaining:    0.0s\n",
            "[Parallel(n_jobs=1)]: Done  13 out of  13 | elapsed:  2.8min finished\n",
            "\n",
            "[2021-09-15 12:02:23] Features: 14/37 -- score: 0.781096681096681[Parallel(n_jobs=1)]: Using backend SequentialBackend with 1 concurrent workers.\n",
            "[Parallel(n_jobs=1)]: Done   1 out of   1 | elapsed:   13.9s remaining:    0.0s\n",
            "[Parallel(n_jobs=1)]: Done  23 out of  23 | elapsed:  5.2min finished\n",
            "[Parallel(n_jobs=1)]: Using backend SequentialBackend with 1 concurrent workers.\n",
            "[Parallel(n_jobs=1)]: Done   1 out of   1 | elapsed:   13.3s remaining:    0.0s\n",
            "[Parallel(n_jobs=1)]: Done  14 out of  14 | elapsed:  3.1min finished\n",
            "\n",
            "[2021-09-15 12:10:43] Features: 15/37 -- score: 0.7811928811928812[Parallel(n_jobs=1)]: Using backend SequentialBackend with 1 concurrent workers.\n",
            "[Parallel(n_jobs=1)]: Done   1 out of   1 | elapsed:   14.2s remaining:    0.0s\n",
            "[Parallel(n_jobs=1)]: Done  22 out of  22 | elapsed:  5.1min finished\n",
            "[Parallel(n_jobs=1)]: Using backend SequentialBackend with 1 concurrent workers.\n",
            "[Parallel(n_jobs=1)]: Done   1 out of   1 | elapsed:   13.6s remaining:    0.0s\n",
            "[Parallel(n_jobs=1)]: Done  15 out of  15 | elapsed:  3.4min finished\n",
            "[Parallel(n_jobs=1)]: Using backend SequentialBackend with 1 concurrent workers.\n",
            "[Parallel(n_jobs=1)]: Done   1 out of   1 | elapsed:   13.3s remaining:    0.0s\n",
            "[Parallel(n_jobs=1)]: Done  14 out of  14 | elapsed:  3.1min finished\n",
            "[Parallel(n_jobs=1)]: Using backend SequentialBackend with 1 concurrent workers.\n",
            "[Parallel(n_jobs=1)]: Done   1 out of   1 | elapsed:   13.1s remaining:    0.0s\n",
            "[Parallel(n_jobs=1)]: Done  13 out of  13 | elapsed:  2.9min finished\n",
            "\n",
            "[2021-09-15 12:25:15] Features: 14/37 -- score: 0.7819624819624819[Parallel(n_jobs=1)]: Using backend SequentialBackend with 1 concurrent workers.\n",
            "[Parallel(n_jobs=1)]: Done   1 out of   1 | elapsed:   14.2s remaining:    0.0s\n",
            "[Parallel(n_jobs=1)]: Done  23 out of  23 | elapsed:  5.3min finished\n",
            "[Parallel(n_jobs=1)]: Using backend SequentialBackend with 1 concurrent workers.\n",
            "[Parallel(n_jobs=1)]: Done   1 out of   1 | elapsed:   13.3s remaining:    0.0s\n",
            "[Parallel(n_jobs=1)]: Done  14 out of  14 | elapsed:  3.1min finished\n",
            "\n",
            "[2021-09-15 12:33:42] Features: 15/37 -- score: 0.782082732082732[Parallel(n_jobs=1)]: Using backend SequentialBackend with 1 concurrent workers.\n",
            "[Parallel(n_jobs=1)]: Done   1 out of   1 | elapsed:   14.5s remaining:    0.0s\n",
            "[Parallel(n_jobs=1)]: Done  22 out of  22 | elapsed:  5.2min finished\n",
            "[Parallel(n_jobs=1)]: Using backend SequentialBackend with 1 concurrent workers.\n",
            "[Parallel(n_jobs=1)]: Done   1 out of   1 | elapsed:   13.6s remaining:    0.0s\n",
            "[Parallel(n_jobs=1)]: Done  15 out of  15 | elapsed:  3.4min finished\n",
            "\n",
            "[2021-09-15 12:42:17] Features: 16/37 -- score: 0.7824434824434825[Parallel(n_jobs=1)]: Using backend SequentialBackend with 1 concurrent workers.\n",
            "[Parallel(n_jobs=1)]: Done   1 out of   1 | elapsed:   14.5s remaining:    0.0s\n",
            "[Parallel(n_jobs=1)]: Done  21 out of  21 | elapsed:  5.0min finished\n",
            "[Parallel(n_jobs=1)]: Using backend SequentialBackend with 1 concurrent workers.\n",
            "[Parallel(n_jobs=1)]: Done   1 out of   1 | elapsed:   13.8s remaining:    0.0s\n",
            "[Parallel(n_jobs=1)]: Done  16 out of  16 | elapsed:  3.7min finished\n",
            "\n",
            "[2021-09-15 12:50:57] Features: 17/37 -- score: 0.7829966329966329[Parallel(n_jobs=1)]: Using backend SequentialBackend with 1 concurrent workers.\n",
            "[Parallel(n_jobs=1)]: Done   1 out of   1 | elapsed:   14.8s remaining:    0.0s\n",
            "[Parallel(n_jobs=1)]: Done  20 out of  20 | elapsed:  4.8min finished\n",
            "[Parallel(n_jobs=1)]: Using backend SequentialBackend with 1 concurrent workers.\n",
            "[Parallel(n_jobs=1)]: Done   1 out of   1 | elapsed:   14.2s remaining:    0.0s\n",
            "[Parallel(n_jobs=1)]: Done  17 out of  17 | elapsed:  4.0min finished\n",
            "\n",
            "[2021-09-15 12:59:47] Features: 18/37 -- score: 0.7833814333814335[Parallel(n_jobs=1)]: Using backend SequentialBackend with 1 concurrent workers.\n",
            "[Parallel(n_jobs=1)]: Done   1 out of   1 | elapsed:   15.0s remaining:    0.0s\n",
            "[Parallel(n_jobs=1)]: Done  19 out of  19 | elapsed:  4.7min finished\n",
            "[Parallel(n_jobs=1)]: Using backend SequentialBackend with 1 concurrent workers.\n",
            "[Parallel(n_jobs=1)]: Done   1 out of   1 | elapsed:   14.4s remaining:    0.0s\n",
            "[Parallel(n_jobs=1)]: Done  18 out of  18 | elapsed:  4.3min finished\n",
            "\n",
            "[2021-09-15 13:08:50] Features: 19/37 -- score: 0.7827080327080328[Parallel(n_jobs=1)]: Using backend SequentialBackend with 1 concurrent workers.\n",
            "[Parallel(n_jobs=1)]: Done   1 out of   1 | elapsed:   15.4s remaining:    0.0s\n",
            "[Parallel(n_jobs=1)]: Done  18 out of  18 | elapsed:  4.5min finished\n",
            "[Parallel(n_jobs=1)]: Using backend SequentialBackend with 1 concurrent workers.\n",
            "[Parallel(n_jobs=1)]: Done   1 out of   1 | elapsed:   14.7s remaining:    0.0s\n",
            "[Parallel(n_jobs=1)]: Done  19 out of  19 | elapsed:  4.6min finished\n",
            "\n",
            "[2021-09-15 13:18:00] Features: 20/37 -- score: 0.7827561327561326[Parallel(n_jobs=1)]: Using backend SequentialBackend with 1 concurrent workers.\n",
            "[Parallel(n_jobs=1)]: Done   1 out of   1 | elapsed:   15.6s remaining:    0.0s\n",
            "[Parallel(n_jobs=1)]: Done  17 out of  17 | elapsed:  4.4min finished\n",
            "[Parallel(n_jobs=1)]: Using backend SequentialBackend with 1 concurrent workers.\n",
            "[Parallel(n_jobs=1)]: Done   1 out of   1 | elapsed:   14.9s remaining:    0.0s\n",
            "[Parallel(n_jobs=1)]: Done  20 out of  20 | elapsed:  4.9min finished\n",
            "\n",
            "[2021-09-15 13:27:18] Features: 21/37 -- score: 0.7833333333333333[Parallel(n_jobs=1)]: Using backend SequentialBackend with 1 concurrent workers.\n",
            "[Parallel(n_jobs=1)]: Done   1 out of   1 | elapsed:   15.8s remaining:    0.0s\n",
            "[Parallel(n_jobs=1)]: Done  16 out of  16 | elapsed:  4.1min finished\n",
            "[Parallel(n_jobs=1)]: Using backend SequentialBackend with 1 concurrent workers.\n",
            "[Parallel(n_jobs=1)]: Done   1 out of   1 | elapsed:   15.2s remaining:    0.0s\n",
            "[Parallel(n_jobs=1)]: Done  21 out of  21 | elapsed:  5.3min finished\n",
            "\n",
            "[2021-09-15 13:36:45] Features: 22/37 -- score: 0.7836700336700335[Parallel(n_jobs=1)]: Using backend SequentialBackend with 1 concurrent workers.\n",
            "[Parallel(n_jobs=1)]: Done   1 out of   1 | elapsed:   16.1s remaining:    0.0s\n",
            "[Parallel(n_jobs=1)]: Done  15 out of  15 | elapsed:  3.9min finished\n",
            "[Parallel(n_jobs=1)]: Using backend SequentialBackend with 1 concurrent workers.\n",
            "[Parallel(n_jobs=1)]: Done   1 out of   1 | elapsed:   15.4s remaining:    0.0s\n",
            "[Parallel(n_jobs=1)]: Done  22 out of  22 | elapsed:  5.6min finished\n",
            "\n",
            "[2021-09-15 13:46:19] Features: 23/37 -- score: 0.783020683020683[Parallel(n_jobs=1)]: Using backend SequentialBackend with 1 concurrent workers.\n",
            "[Parallel(n_jobs=1)]: Done   1 out of   1 | elapsed:   16.4s remaining:    0.0s\n",
            "[Parallel(n_jobs=1)]: Done  14 out of  14 | elapsed:  3.7min finished\n",
            "[Parallel(n_jobs=1)]: Using backend SequentialBackend with 1 concurrent workers.\n",
            "[Parallel(n_jobs=1)]: Done   1 out of   1 | elapsed:   15.7s remaining:    0.0s\n",
            "[Parallel(n_jobs=1)]: Done  23 out of  23 | elapsed:  6.0min finished\n",
            "\n",
            "[2021-09-15 13:56:04] Features: 24/37 -- score: 0.7844877344877345[Parallel(n_jobs=1)]: Using backend SequentialBackend with 1 concurrent workers.\n",
            "[Parallel(n_jobs=1)]: Done   1 out of   1 | elapsed:   16.5s remaining:    0.0s\n",
            "[Parallel(n_jobs=1)]: Done  13 out of  13 | elapsed:  3.5min finished\n",
            "[Parallel(n_jobs=1)]: Using backend SequentialBackend with 1 concurrent workers.\n",
            "[Parallel(n_jobs=1)]: Done   1 out of   1 | elapsed:   16.0s remaining:    0.0s\n",
            "[Parallel(n_jobs=1)]: Done  24 out of  24 | elapsed:  6.4min finished\n",
            "\n",
            "[2021-09-15 14:05:59] Features: 25/37 -- score: 0.785040885040885[Parallel(n_jobs=1)]: Using backend SequentialBackend with 1 concurrent workers.\n",
            "[Parallel(n_jobs=1)]: Done   1 out of   1 | elapsed:   17.0s remaining:    0.0s\n",
            "[Parallel(n_jobs=1)]: Done  12 out of  12 | elapsed:  3.3min finished\n",
            "[Parallel(n_jobs=1)]: Using backend SequentialBackend with 1 concurrent workers.\n",
            "[Parallel(n_jobs=1)]: Done   1 out of   1 | elapsed:   16.2s remaining:    0.0s\n",
            "[Parallel(n_jobs=1)]: Done  25 out of  25 | elapsed:  6.7min finished\n",
            "\n",
            "[2021-09-15 14:16:04] Features: 26/37 -- score: 0.7842231842231842[Parallel(n_jobs=1)]: Using backend SequentialBackend with 1 concurrent workers.\n",
            "[Parallel(n_jobs=1)]: Done   1 out of   1 | elapsed:   17.1s remaining:    0.0s\n"
          ]
        }
      ]
    },
    {
      "cell_type": "code",
      "metadata": {
        "id": "Jzj3m1qa5u79"
      },
      "source": [
        "\n",
        "fig = plot_sfs(sfs2.get_metric_dict(), kind='std_err')\n",
        "\n",
        "plt.title('Sequential Forward Selection (w. StdErr)')\n",
        "plt.grid()\n",
        "plt.show()"
      ],
      "execution_count": null,
      "outputs": []
    },
    {
      "cell_type": "markdown",
      "metadata": {
        "id": "UyX-BfsBuk6l"
      },
      "source": [
        "**Optuna for Hyperparameter tuning for CATBOOSTClassifier**"
      ]
    },
    {
      "cell_type": "code",
      "metadata": {
        "id": "ckfcaHAeeSxz"
      },
      "source": [
        "X_train, X_test, y_train, y_test = train_test_split( cleaned_train, label, test_size=0.1, random_state=68)"
      ],
      "execution_count": null,
      "outputs": []
    },
    {
      "cell_type": "code",
      "metadata": {
        "id": "9ZCMwxz6ukK-"
      },
      "source": [
        "categorical_features_indices =np.where(X_train.dtypes != float)[0]"
      ],
      "execution_count": null,
      "outputs": []
    },
    {
      "cell_type": "code",
      "metadata": {
        "id": "6vkWnM2CuuCs"
      },
      "source": [
        "train_dataset = Pool(data=X_train,\n",
        "                     label=y_train.status_group,\n",
        "                     cat_features = categorical_features_indices)"
      ],
      "execution_count": null,
      "outputs": []
    },
    {
      "cell_type": "code",
      "metadata": {
        "id": "ABwTJ0lCuv8f"
      },
      "source": [
        "def objective(trial):\n",
        "    param = {\n",
        "        'iterations':trial.suggest_categorical('iterations', [100,200,300,500,1000,1200,1500]),\n",
        "        'learning_rate':trial.suggest_float(\"learning_rate\", 0.001, 0.3),\n",
        "        'random_strength':trial.suggest_int(\"random_strength\", 1,10),\n",
        "        'bagging_temperature':trial.suggest_int(\"bagging_temperature\", 0,10),\n",
        "        'max_bin':trial.suggest_categorical('max_bin', [4,5,6,8,10,20,30]),\n",
        "        'grow_policy':trial.suggest_categorical('grow_policy', ['SymmetricTree', 'Depthwise', 'Lossguide']),\n",
        "        'min_data_in_leaf':trial.suggest_int(\"min_data_in_leaf\", 1,10),\n",
        "        'od_type' : \"Iter\",\n",
        "        'od_wait' : 100,\n",
        "        \"depth\": trial.suggest_int(\"max_depth\", 2,10),\n",
        "        \"l2_leaf_reg\": trial.suggest_loguniform(\"l2_leaf_reg\", 1e-8, 100),\n",
        "         'one_hot_max_size':trial.suggest_categorical('one_hot_max_size', [5,10,12,100,500,1024]),\n",
        "        'custom_metric' : ['AUC'],\n",
        "        \"loss_function\": \"MultiClass\",\n",
        "        'auto_class_weights':trial.suggest_categorical('auto_class_weights', ['Balanced', 'SqrtBalanced']),\n",
        "        }\n",
        "\n",
        "    scores = cv(train_dataset,\n",
        "            param,\n",
        "            fold_count=5, \n",
        "            early_stopping_rounds=10,         \n",
        "            plot=False, verbose=False)\n",
        "\n",
        "    return scores['test-AUC-mean'].max()"
      ],
      "execution_count": null,
      "outputs": []
    },
    {
      "cell_type": "code",
      "metadata": {
        "id": "zmC6LHfJuyN0"
      },
      "source": [
        "sampler = optuna.samplers.TPESampler(seed=68)  # Make the sampler behave in a deterministic way.\n",
        "study = optuna.create_study(direction=\"maximize\", sampler=sampler)\n",
        "study.optimize(objective, n_trials=100)"
      ],
      "execution_count": null,
      "outputs": []
    },
    {
      "cell_type": "markdown",
      "metadata": {
        "id": "1yxXEYFQu3cB"
      },
      "source": [
        "**Model-CatBoostClassifier**"
      ]
    },
    {
      "cell_type": "code",
      "metadata": {
        "id": "QfM1rSImdvL6"
      },
      "source": [
        "final_model = CatBoostClassifier(verbose=False,  cat_features=categorical_features_indices, loss_function='MultiClass'\n",
        "                         )"
      ],
      "execution_count": null,
      "outputs": []
    },
    {
      "cell_type": "code",
      "metadata": {
        "id": "kPP-Ffp9ecsT"
      },
      "source": [
        "final_model.fit(X_train, y_train.status_group)"
      ],
      "execution_count": null,
      "outputs": []
    },
    {
      "cell_type": "code",
      "metadata": {
        "id": "xGk_N6sxtKIa"
      },
      "source": [
        "predictions_h1 = final_model.predict(X_test)\n",
        "predictions_h1"
      ],
      "execution_count": null,
      "outputs": []
    },
    {
      "cell_type": "code",
      "metadata": {
        "id": "Wc8LIUhBtV0K"
      },
      "source": [
        "final_model.fit(cleaned_train, label.status_group)"
      ],
      "execution_count": null,
      "outputs": []
    },
    {
      "cell_type": "code",
      "metadata": {
        "id": "NTP8f2Cimilt",
        "colab": {
          "base_uri": "https://localhost:8080/"
        },
        "outputId": "f7bfd1f0-204d-4246-d583-0ed56cc233fc"
      },
      "source": [
        "print(final_model.get_all_params())"
      ],
      "execution_count": null,
      "outputs": [
        {
          "output_type": "stream",
          "name": "stdout",
          "text": [
            "{'nan_mode': 'Min', 'eval_metric': 'MultiClass', 'combinations_ctr': ['Borders:CtrBorderCount=15:CtrBorderType=Uniform:TargetBorderCount=2:TargetBorderType=MinEntropy:Prior=0/1:Prior=0.5/1:Prior=1/1', 'Counter:CtrBorderCount=15:CtrBorderType=Uniform:Prior=0/1'], 'iterations': 1000, 'sampling_frequency': 'PerTree', 'fold_permutation_block': 0, 'leaf_estimation_method': 'Newton', 'counter_calc_method': 'SkipTest', 'grow_policy': 'SymmetricTree', 'penalties_coefficient': 1, 'boosting_type': 'Plain', 'model_shrink_mode': 'Constant', 'feature_border_type': 'GreedyLogSum', 'ctr_leaf_count_limit': 18446744073709551615, 'bayesian_matrix_reg': 0.10000000149011612, 'one_hot_max_size': 2, 'l2_leaf_reg': 3, 'random_strength': 1, 'rsm': 1, 'boost_from_average': False, 'max_ctr_complexity': 4, 'model_size_reg': 0.5, 'simple_ctr': ['Borders:CtrBorderCount=15:CtrBorderType=Uniform:TargetBorderCount=2:TargetBorderType=MinEntropy:Prior=0/1:Prior=0.5/1:Prior=1/1', 'Counter:CtrBorderCount=15:CtrBorderType=Uniform:Prior=0/1'], 'pool_metainfo_options': {'tags': {}}, 'use_best_model': False, 'class_names': ['functional', 'functional needs repair', 'non functional'], 'random_seed': 0, 'depth': 6, 'ctr_target_border_count': 1, 'posterior_sampling': False, 'has_time': False, 'store_all_simple_ctr': False, 'border_count': 254, 'bagging_temperature': 1, 'classes_count': 0, 'auto_class_weights': 'None', 'sparse_features_conflict_fraction': 0, 'leaf_estimation_backtracking': 'AnyImprovement', 'best_model_min_trees': 1, 'model_shrink_rate': 0, 'min_data_in_leaf': 1, 'loss_function': 'MultiClass', 'learning_rate': 0.09745100140571594, 'score_function': 'Cosine', 'task_type': 'CPU', 'leaf_estimation_iterations': 1, 'bootstrap_type': 'Bayesian', 'max_leaves': 64, 'permutation_count': 4}\n"
          ]
        }
      ]
    },
    {
      "cell_type": "code",
      "metadata": {
        "id": "x-keaUUn1Qry"
      },
      "source": [
        "final_h1 = final_model.predict(cleaned_test)"
      ],
      "execution_count": null,
      "outputs": []
    },
    {
      "cell_type": "code",
      "metadata": {
        "id": "J48Da5VN0bSL"
      },
      "source": [
        "submission_df= pd.read_csv('/content/drive/MyDrive/Datasets for ML/Pump it Up: Data Mining the Water Table/SubmissionFormat.csv',)"
      ],
      "execution_count": null,
      "outputs": []
    },
    {
      "cell_type": "code",
      "metadata": {
        "id": "BXDKveAC03yz",
        "colab": {
          "base_uri": "https://localhost:8080/",
          "height": 204
        },
        "outputId": "4faa0cdd-1ae8-4345-fb43-50cb9982cf5f"
      },
      "source": [
        "submission_df.head()"
      ],
      "execution_count": null,
      "outputs": [
        {
          "output_type": "execute_result",
          "data": {
            "text/html": [
              "<div>\n",
              "<style scoped>\n",
              "    .dataframe tbody tr th:only-of-type {\n",
              "        vertical-align: middle;\n",
              "    }\n",
              "\n",
              "    .dataframe tbody tr th {\n",
              "        vertical-align: top;\n",
              "    }\n",
              "\n",
              "    .dataframe thead th {\n",
              "        text-align: right;\n",
              "    }\n",
              "</style>\n",
              "<table border=\"1\" class=\"dataframe\">\n",
              "  <thead>\n",
              "    <tr style=\"text-align: right;\">\n",
              "      <th></th>\n",
              "      <th>id</th>\n",
              "      <th>status_group</th>\n",
              "    </tr>\n",
              "  </thead>\n",
              "  <tbody>\n",
              "    <tr>\n",
              "      <th>0</th>\n",
              "      <td>50785</td>\n",
              "      <td>predicted label</td>\n",
              "    </tr>\n",
              "    <tr>\n",
              "      <th>1</th>\n",
              "      <td>51630</td>\n",
              "      <td>predicted label</td>\n",
              "    </tr>\n",
              "    <tr>\n",
              "      <th>2</th>\n",
              "      <td>17168</td>\n",
              "      <td>predicted label</td>\n",
              "    </tr>\n",
              "    <tr>\n",
              "      <th>3</th>\n",
              "      <td>45559</td>\n",
              "      <td>predicted label</td>\n",
              "    </tr>\n",
              "    <tr>\n",
              "      <th>4</th>\n",
              "      <td>49871</td>\n",
              "      <td>predicted label</td>\n",
              "    </tr>\n",
              "  </tbody>\n",
              "</table>\n",
              "</div>"
            ],
            "text/plain": [
              "      id     status_group\n",
              "0  50785  predicted label\n",
              "1  51630  predicted label\n",
              "2  17168  predicted label\n",
              "3  45559  predicted label\n",
              "4  49871  predicted label"
            ]
          },
          "metadata": {},
          "execution_count": 388
        }
      ]
    },
    {
      "cell_type": "code",
      "metadata": {
        "id": "leM_Vww40_jE"
      },
      "source": [
        "np.testing.assert_array_equal(test.index.values, \n",
        "                              submission_df.index.values)"
      ],
      "execution_count": null,
      "outputs": []
    },
    {
      "cell_type": "code",
      "metadata": {
        "id": "N24ews6A1C_b"
      },
      "source": [
        "submission_df[\"status_group\"]=final_h1"
      ],
      "execution_count": null,
      "outputs": []
    },
    {
      "cell_type": "code",
      "metadata": {
        "id": "YOqWb0171mfl",
        "colab": {
          "base_uri": "https://localhost:8080/",
          "height": 204
        },
        "outputId": "588cb228-c9d2-47a7-dd71-6443ed667ea0"
      },
      "source": [
        "submission_df.head()"
      ],
      "execution_count": null,
      "outputs": [
        {
          "output_type": "execute_result",
          "data": {
            "text/html": [
              "<div>\n",
              "<style scoped>\n",
              "    .dataframe tbody tr th:only-of-type {\n",
              "        vertical-align: middle;\n",
              "    }\n",
              "\n",
              "    .dataframe tbody tr th {\n",
              "        vertical-align: top;\n",
              "    }\n",
              "\n",
              "    .dataframe thead th {\n",
              "        text-align: right;\n",
              "    }\n",
              "</style>\n",
              "<table border=\"1\" class=\"dataframe\">\n",
              "  <thead>\n",
              "    <tr style=\"text-align: right;\">\n",
              "      <th></th>\n",
              "      <th>id</th>\n",
              "      <th>status_group</th>\n",
              "    </tr>\n",
              "  </thead>\n",
              "  <tbody>\n",
              "    <tr>\n",
              "      <th>0</th>\n",
              "      <td>50785</td>\n",
              "      <td>functional</td>\n",
              "    </tr>\n",
              "    <tr>\n",
              "      <th>1</th>\n",
              "      <td>51630</td>\n",
              "      <td>functional</td>\n",
              "    </tr>\n",
              "    <tr>\n",
              "      <th>2</th>\n",
              "      <td>17168</td>\n",
              "      <td>functional</td>\n",
              "    </tr>\n",
              "    <tr>\n",
              "      <th>3</th>\n",
              "      <td>45559</td>\n",
              "      <td>non functional</td>\n",
              "    </tr>\n",
              "    <tr>\n",
              "      <th>4</th>\n",
              "      <td>49871</td>\n",
              "      <td>functional</td>\n",
              "    </tr>\n",
              "  </tbody>\n",
              "</table>\n",
              "</div>"
            ],
            "text/plain": [
              "      id    status_group\n",
              "0  50785      functional\n",
              "1  51630      functional\n",
              "2  17168      functional\n",
              "3  45559  non functional\n",
              "4  49871      functional"
            ]
          },
          "metadata": {},
          "execution_count": 391
        }
      ]
    },
    {
      "cell_type": "code",
      "metadata": {
        "id": "VlAJxGmR1oL0"
      },
      "source": [
        "submission_df.to_csv('your_submission.csv', index=False)"
      ],
      "execution_count": null,
      "outputs": []
    },
    {
      "cell_type": "code",
      "metadata": {
        "id": "rQ1N_u5JEbiv",
        "colab": {
          "base_uri": "https://localhost:8080/",
          "height": 17
        },
        "outputId": "049c517e-0ea8-4bff-97f7-b745faeda69a"
      },
      "source": [
        "from google.colab import files\n",
        "files.download('your_submission.csv')"
      ],
      "execution_count": null,
      "outputs": [
        {
          "output_type": "display_data",
          "data": {
            "application/javascript": [
              "\n",
              "    async function download(id, filename, size) {\n",
              "      if (!google.colab.kernel.accessAllowed) {\n",
              "        return;\n",
              "      }\n",
              "      const div = document.createElement('div');\n",
              "      const label = document.createElement('label');\n",
              "      label.textContent = `Downloading \"${filename}\": `;\n",
              "      div.appendChild(label);\n",
              "      const progress = document.createElement('progress');\n",
              "      progress.max = size;\n",
              "      div.appendChild(progress);\n",
              "      document.body.appendChild(div);\n",
              "\n",
              "      const buffers = [];\n",
              "      let downloaded = 0;\n",
              "\n",
              "      const channel = await google.colab.kernel.comms.open(id);\n",
              "      // Send a message to notify the kernel that we're ready.\n",
              "      channel.send({})\n",
              "\n",
              "      for await (const message of channel.messages) {\n",
              "        // Send a message to notify the kernel that we're ready.\n",
              "        channel.send({})\n",
              "        if (message.buffers) {\n",
              "          for (const buffer of message.buffers) {\n",
              "            buffers.push(buffer);\n",
              "            downloaded += buffer.byteLength;\n",
              "            progress.value = downloaded;\n",
              "          }\n",
              "        }\n",
              "      }\n",
              "      const blob = new Blob(buffers, {type: 'application/binary'});\n",
              "      const a = document.createElement('a');\n",
              "      a.href = window.URL.createObjectURL(blob);\n",
              "      a.download = filename;\n",
              "      div.appendChild(a);\n",
              "      a.click();\n",
              "      div.remove();\n",
              "    }\n",
              "  "
            ],
            "text/plain": [
              "<IPython.core.display.Javascript object>"
            ]
          },
          "metadata": {}
        },
        {
          "output_type": "display_data",
          "data": {
            "application/javascript": [
              "download(\"download_a3794541-f7e1-45ef-9b9b-ffbfc388bf7d\", \"twelth_submission.csv\", 277813)"
            ],
            "text/plain": [
              "<IPython.core.display.Javascript object>"
            ]
          },
          "metadata": {}
        }
      ]
    }
  ]
}